{
 "cells": [
  {
   "cell_type": "markdown",
   "id": "1e25210f",
   "metadata": {},
   "source": [
    "# 1 - Importação das bibliotecas"
   ]
  },
  {
   "cell_type": "code",
   "execution_count": 110,
   "id": "cb9b3abd",
   "metadata": {},
   "outputs": [
    {
     "data": {
      "text/html": [
       "<style>.container { width:100% !important; }</style>"
      ],
      "text/plain": [
       "<IPython.core.display.HTML object>"
      ]
     },
     "metadata": {},
     "output_type": "display_data"
    }
   ],
   "source": [
    "import pandas as pd\n",
    "import numpy as np\n",
    "from sklearn.preprocessing import LabelEncoder\n",
    "import seaborn as sns\n",
    "import matplotlib.pyplot as plt\n",
    "from sklearn.model_selection import train_test_split, GridSearchCV, cross_val_score, KFold\n",
    "from lightgbm import LGBMClassifier\n",
    "from sklearn.metrics import accuracy_score,classification_report, recall_score,confusion_matrix, roc_auc_score, precision_score, f1_score, roc_curve, auc, plot_confusion_matrix,plot_roc_curve\n",
    "from IPython.display import display, HTML\n",
    "display(HTML(\"<style>.container { width:100% !important; }</style>\"))"
   ]
  },
  {
   "cell_type": "markdown",
   "id": "5d41ba05",
   "metadata": {},
   "source": [
    "# 2 - Análise exploratória"
   ]
  },
  {
   "cell_type": "markdown",
   "id": "87439fe2",
   "metadata": {},
   "source": [
    "## 2.1 - Tratamento dos dados"
   ]
  },
  {
   "cell_type": "code",
   "execution_count": 2,
   "id": "ab27f418",
   "metadata": {},
   "outputs": [],
   "source": [
    "df = pd.read_csv(\"..\\Dataset\\WA_Fn-UseC_-Telco-Customer-Churn.csv\")"
   ]
  },
  {
   "cell_type": "code",
   "execution_count": 3,
   "id": "6da5c69a",
   "metadata": {},
   "outputs": [
    {
     "data": {
      "text/html": [
       "<div>\n",
       "<style scoped>\n",
       "    .dataframe tbody tr th:only-of-type {\n",
       "        vertical-align: middle;\n",
       "    }\n",
       "\n",
       "    .dataframe tbody tr th {\n",
       "        vertical-align: top;\n",
       "    }\n",
       "\n",
       "    .dataframe thead th {\n",
       "        text-align: right;\n",
       "    }\n",
       "</style>\n",
       "<table border=\"1\" class=\"dataframe\">\n",
       "  <thead>\n",
       "    <tr style=\"text-align: right;\">\n",
       "      <th></th>\n",
       "      <th>customerID</th>\n",
       "      <th>gender</th>\n",
       "      <th>SeniorCitizen</th>\n",
       "      <th>Partner</th>\n",
       "      <th>Dependents</th>\n",
       "      <th>tenure</th>\n",
       "      <th>PhoneService</th>\n",
       "      <th>MultipleLines</th>\n",
       "      <th>InternetService</th>\n",
       "      <th>OnlineSecurity</th>\n",
       "      <th>...</th>\n",
       "      <th>DeviceProtection</th>\n",
       "      <th>TechSupport</th>\n",
       "      <th>StreamingTV</th>\n",
       "      <th>StreamingMovies</th>\n",
       "      <th>Contract</th>\n",
       "      <th>PaperlessBilling</th>\n",
       "      <th>PaymentMethod</th>\n",
       "      <th>MonthlyCharges</th>\n",
       "      <th>TotalCharges</th>\n",
       "      <th>Churn</th>\n",
       "    </tr>\n",
       "  </thead>\n",
       "  <tbody>\n",
       "    <tr>\n",
       "      <th>0</th>\n",
       "      <td>7590-VHVEG</td>\n",
       "      <td>Female</td>\n",
       "      <td>0</td>\n",
       "      <td>Yes</td>\n",
       "      <td>No</td>\n",
       "      <td>1</td>\n",
       "      <td>No</td>\n",
       "      <td>No phone service</td>\n",
       "      <td>DSL</td>\n",
       "      <td>No</td>\n",
       "      <td>...</td>\n",
       "      <td>No</td>\n",
       "      <td>No</td>\n",
       "      <td>No</td>\n",
       "      <td>No</td>\n",
       "      <td>Month-to-month</td>\n",
       "      <td>Yes</td>\n",
       "      <td>Electronic check</td>\n",
       "      <td>29.85</td>\n",
       "      <td>29.85</td>\n",
       "      <td>No</td>\n",
       "    </tr>\n",
       "    <tr>\n",
       "      <th>1</th>\n",
       "      <td>5575-GNVDE</td>\n",
       "      <td>Male</td>\n",
       "      <td>0</td>\n",
       "      <td>No</td>\n",
       "      <td>No</td>\n",
       "      <td>34</td>\n",
       "      <td>Yes</td>\n",
       "      <td>No</td>\n",
       "      <td>DSL</td>\n",
       "      <td>Yes</td>\n",
       "      <td>...</td>\n",
       "      <td>Yes</td>\n",
       "      <td>No</td>\n",
       "      <td>No</td>\n",
       "      <td>No</td>\n",
       "      <td>One year</td>\n",
       "      <td>No</td>\n",
       "      <td>Mailed check</td>\n",
       "      <td>56.95</td>\n",
       "      <td>1889.5</td>\n",
       "      <td>No</td>\n",
       "    </tr>\n",
       "    <tr>\n",
       "      <th>2</th>\n",
       "      <td>3668-QPYBK</td>\n",
       "      <td>Male</td>\n",
       "      <td>0</td>\n",
       "      <td>No</td>\n",
       "      <td>No</td>\n",
       "      <td>2</td>\n",
       "      <td>Yes</td>\n",
       "      <td>No</td>\n",
       "      <td>DSL</td>\n",
       "      <td>Yes</td>\n",
       "      <td>...</td>\n",
       "      <td>No</td>\n",
       "      <td>No</td>\n",
       "      <td>No</td>\n",
       "      <td>No</td>\n",
       "      <td>Month-to-month</td>\n",
       "      <td>Yes</td>\n",
       "      <td>Mailed check</td>\n",
       "      <td>53.85</td>\n",
       "      <td>108.15</td>\n",
       "      <td>Yes</td>\n",
       "    </tr>\n",
       "    <tr>\n",
       "      <th>3</th>\n",
       "      <td>7795-CFOCW</td>\n",
       "      <td>Male</td>\n",
       "      <td>0</td>\n",
       "      <td>No</td>\n",
       "      <td>No</td>\n",
       "      <td>45</td>\n",
       "      <td>No</td>\n",
       "      <td>No phone service</td>\n",
       "      <td>DSL</td>\n",
       "      <td>Yes</td>\n",
       "      <td>...</td>\n",
       "      <td>Yes</td>\n",
       "      <td>Yes</td>\n",
       "      <td>No</td>\n",
       "      <td>No</td>\n",
       "      <td>One year</td>\n",
       "      <td>No</td>\n",
       "      <td>Bank transfer (automatic)</td>\n",
       "      <td>42.30</td>\n",
       "      <td>1840.75</td>\n",
       "      <td>No</td>\n",
       "    </tr>\n",
       "    <tr>\n",
       "      <th>4</th>\n",
       "      <td>9237-HQITU</td>\n",
       "      <td>Female</td>\n",
       "      <td>0</td>\n",
       "      <td>No</td>\n",
       "      <td>No</td>\n",
       "      <td>2</td>\n",
       "      <td>Yes</td>\n",
       "      <td>No</td>\n",
       "      <td>Fiber optic</td>\n",
       "      <td>No</td>\n",
       "      <td>...</td>\n",
       "      <td>No</td>\n",
       "      <td>No</td>\n",
       "      <td>No</td>\n",
       "      <td>No</td>\n",
       "      <td>Month-to-month</td>\n",
       "      <td>Yes</td>\n",
       "      <td>Electronic check</td>\n",
       "      <td>70.70</td>\n",
       "      <td>151.65</td>\n",
       "      <td>Yes</td>\n",
       "    </tr>\n",
       "  </tbody>\n",
       "</table>\n",
       "<p>5 rows × 21 columns</p>\n",
       "</div>"
      ],
      "text/plain": [
       "   customerID  gender  SeniorCitizen Partner Dependents  tenure PhoneService  \\\n",
       "0  7590-VHVEG  Female              0     Yes         No       1           No   \n",
       "1  5575-GNVDE    Male              0      No         No      34          Yes   \n",
       "2  3668-QPYBK    Male              0      No         No       2          Yes   \n",
       "3  7795-CFOCW    Male              0      No         No      45           No   \n",
       "4  9237-HQITU  Female              0      No         No       2          Yes   \n",
       "\n",
       "      MultipleLines InternetService OnlineSecurity  ... DeviceProtection  \\\n",
       "0  No phone service             DSL             No  ...               No   \n",
       "1                No             DSL            Yes  ...              Yes   \n",
       "2                No             DSL            Yes  ...               No   \n",
       "3  No phone service             DSL            Yes  ...              Yes   \n",
       "4                No     Fiber optic             No  ...               No   \n",
       "\n",
       "  TechSupport StreamingTV StreamingMovies        Contract PaperlessBilling  \\\n",
       "0          No          No              No  Month-to-month              Yes   \n",
       "1          No          No              No        One year               No   \n",
       "2          No          No              No  Month-to-month              Yes   \n",
       "3         Yes          No              No        One year               No   \n",
       "4          No          No              No  Month-to-month              Yes   \n",
       "\n",
       "               PaymentMethod MonthlyCharges  TotalCharges Churn  \n",
       "0           Electronic check          29.85         29.85    No  \n",
       "1               Mailed check          56.95        1889.5    No  \n",
       "2               Mailed check          53.85        108.15   Yes  \n",
       "3  Bank transfer (automatic)          42.30       1840.75    No  \n",
       "4           Electronic check          70.70        151.65   Yes  \n",
       "\n",
       "[5 rows x 21 columns]"
      ]
     },
     "execution_count": 3,
     "metadata": {},
     "output_type": "execute_result"
    }
   ],
   "source": [
    "df.head()"
   ]
  },
  {
   "cell_type": "code",
   "execution_count": 4,
   "id": "2e8d95cb",
   "metadata": {},
   "outputs": [
    {
     "data": {
      "text/plain": [
       "customerID          0\n",
       "gender              0\n",
       "SeniorCitizen       0\n",
       "Partner             0\n",
       "Dependents          0\n",
       "tenure              0\n",
       "PhoneService        0\n",
       "MultipleLines       0\n",
       "InternetService     0\n",
       "OnlineSecurity      0\n",
       "OnlineBackup        0\n",
       "DeviceProtection    0\n",
       "TechSupport         0\n",
       "StreamingTV         0\n",
       "StreamingMovies     0\n",
       "Contract            0\n",
       "PaperlessBilling    0\n",
       "PaymentMethod       0\n",
       "MonthlyCharges      0\n",
       "TotalCharges        0\n",
       "Churn               0\n",
       "dtype: int64"
      ]
     },
     "execution_count": 4,
     "metadata": {},
     "output_type": "execute_result"
    }
   ],
   "source": [
    "df.isnull().sum()"
   ]
  },
  {
   "cell_type": "markdown",
   "id": "610b8837",
   "metadata": {},
   "source": [
    "Não há atributo com preenchimento vazio."
   ]
  },
  {
   "cell_type": "code",
   "execution_count": 5,
   "id": "60648fe5",
   "metadata": {},
   "outputs": [
    {
     "name": "stdout",
     "output_type": "stream",
     "text": [
      "<class 'pandas.core.frame.DataFrame'>\n",
      "RangeIndex: 7043 entries, 0 to 7042\n",
      "Data columns (total 21 columns):\n",
      " #   Column            Non-Null Count  Dtype  \n",
      "---  ------            --------------  -----  \n",
      " 0   customerID        7043 non-null   object \n",
      " 1   gender            7043 non-null   object \n",
      " 2   SeniorCitizen     7043 non-null   int64  \n",
      " 3   Partner           7043 non-null   object \n",
      " 4   Dependents        7043 non-null   object \n",
      " 5   tenure            7043 non-null   int64  \n",
      " 6   PhoneService      7043 non-null   object \n",
      " 7   MultipleLines     7043 non-null   object \n",
      " 8   InternetService   7043 non-null   object \n",
      " 9   OnlineSecurity    7043 non-null   object \n",
      " 10  OnlineBackup      7043 non-null   object \n",
      " 11  DeviceProtection  7043 non-null   object \n",
      " 12  TechSupport       7043 non-null   object \n",
      " 13  StreamingTV       7043 non-null   object \n",
      " 14  StreamingMovies   7043 non-null   object \n",
      " 15  Contract          7043 non-null   object \n",
      " 16  PaperlessBilling  7043 non-null   object \n",
      " 17  PaymentMethod     7043 non-null   object \n",
      " 18  MonthlyCharges    7043 non-null   float64\n",
      " 19  TotalCharges      7043 non-null   object \n",
      " 20  Churn             7043 non-null   object \n",
      "dtypes: float64(1), int64(2), object(18)\n",
      "memory usage: 1.1+ MB\n"
     ]
    }
   ],
   "source": [
    "df.info()"
   ]
  },
  {
   "cell_type": "markdown",
   "id": "fc1c29ae",
   "metadata": {},
   "source": [
    "**customerID** é o ID de cada cliente e não será útil para a análise."
   ]
  },
  {
   "cell_type": "code",
   "execution_count": 6,
   "id": "a4952fe9",
   "metadata": {},
   "outputs": [],
   "source": [
    "df = df.drop(\"customerID\", axis = 1)"
   ]
  },
  {
   "cell_type": "markdown",
   "id": "aab94a05",
   "metadata": {},
   "source": [
    "**TotalCharges** é um atributo númerico mas foi reconhecido como object pois há alguma string impedindo a conversão."
   ]
  },
  {
   "cell_type": "code",
   "execution_count": 7,
   "id": "9ce6af63",
   "metadata": {},
   "outputs": [
    {
     "data": {
      "text/plain": [
       "[488, 753, 936, 1082, 1340, 3331, 3826, 4380, 5218, 6670, 6754]"
      ]
     },
     "execution_count": 7,
     "metadata": {},
     "output_type": "execute_result"
    }
   ],
   "source": [
    "lista = []\n",
    "for i in range(0, len(df)):\n",
    "    if df[\"TotalCharges\"].iloc[i].replace(\".\",\"\").isnumeric() == False:\n",
    "        lista.append(i)\n",
    "lista"
   ]
  },
  {
   "cell_type": "markdown",
   "id": "6bbd35b1",
   "metadata": {},
   "source": [
    "Os valores acima são os índices dos registros que não são numericos e estão atrapalhando a conversão."
   ]
  },
  {
   "cell_type": "code",
   "execution_count": 8,
   "id": "adaaec4b",
   "metadata": {},
   "outputs": [
    {
     "name": "stdout",
     "output_type": "stream",
     "text": [
      "[' ', ' ', ' ', ' ', ' ', ' ', ' ', ' ', ' ', ' ', ' ']\n"
     ]
    }
   ],
   "source": [
    "valores = []\n",
    "for i in range(0, len(lista)):\n",
    "    valores.append(df[\"TotalCharges\"].iloc[lista[i]])\n",
    "print(valores)"
   ]
  },
  {
   "cell_type": "markdown",
   "id": "e4d7926e",
   "metadata": {},
   "source": [
    "Pode-se observar que são todos valores de espaço, que serão substituídos por vazio."
   ]
  },
  {
   "cell_type": "code",
   "execution_count": 9,
   "id": "b5199be5",
   "metadata": {},
   "outputs": [],
   "source": [
    "df[\"TotalCharges\"] = df[\"TotalCharges\"].apply(lambda x: x if x != \" \" else np.nan).astype(\"float\")"
   ]
  },
  {
   "cell_type": "markdown",
   "id": "7080f23a",
   "metadata": {},
   "source": [
    "## 2.2 - Análise dos atributos númericos e categóricos "
   ]
  },
  {
   "cell_type": "markdown",
   "id": "d42b50b1",
   "metadata": {},
   "source": [
    "### 2.2.1 - Atributo Alvo"
   ]
  },
  {
   "cell_type": "code",
   "execution_count": 10,
   "id": "b73160a4",
   "metadata": {},
   "outputs": [
    {
     "data": {
      "image/png": "[encoded data removed]",
      "text/plain": [
       "<Figure size 504x504 with 1 Axes>"
      ]
     },
     "metadata": {
      "needs_background": "light"
     },
     "output_type": "display_data"
    }
   ],
   "source": [
    "plt.figure(figsize=(7, 7))\n",
    "sns.histplot(data = df, x = \"Churn\")\n",
    "plt.show()"
   ]
  },
  {
   "cell_type": "code",
   "execution_count": 11,
   "id": "e9afc00c",
   "metadata": {},
   "outputs": [
    {
     "name": "stdout",
     "output_type": "stream",
     "text": [
      "Yes:26.5%\n",
      "No:73.5%\n"
     ]
    }
   ],
   "source": [
    "yes = round(df[\"Churn\"].value_counts()[1] / len(df[\"Churn\"]),3) * 100\n",
    "no = round(df[\"Churn\"].value_counts()[0] / len(df[\"Churn\"]),3) * 100\n",
    "print(f\"Yes:{yes}%\\nNo:{no}%\")"
   ]
  },
  {
   "cell_type": "markdown",
   "id": "08ea8e04",
   "metadata": {},
   "source": [
    "- Avaliando o atributo alvo, observa-se um claro desbalanceamento no conjunto de dados.\n",
    "- Para detalhar a análise dos atributos, serão divididos em categóricos e numéricos.\n",
    "- O atributo alvo \"churn\", será transformado em atributo numérico para poder ser utilizado no treinamento do modelo e para ser comparado com os outros atributos numéricos do conjunto de dados."
   ]
  },
  {
   "cell_type": "code",
   "execution_count": 12,
   "id": "3fddefc5",
   "metadata": {},
   "outputs": [],
   "source": [
    "le = LabelEncoder()\n",
    "df['Churn'] = le.fit_transform(df['Churn'])"
   ]
  },
  {
   "cell_type": "code",
   "execution_count": 13,
   "id": "ea129a93",
   "metadata": {},
   "outputs": [
    {
     "data": {
      "text/plain": [
       "0    5174\n",
       "1    1869\n",
       "Name: Churn, dtype: int64"
      ]
     },
     "execution_count": 13,
     "metadata": {},
     "output_type": "execute_result"
    }
   ],
   "source": [
    "df['Churn'].value_counts()"
   ]
  },
  {
   "cell_type": "code",
   "execution_count": 14,
   "id": "7a94d6e2",
   "metadata": {},
   "outputs": [],
   "source": [
    "numericos = df.select_dtypes(\"number\")\n",
    "categoricos = df.select_dtypes(\"object\")"
   ]
  },
  {
   "cell_type": "markdown",
   "id": "0daa5fb2",
   "metadata": {},
   "source": [
    "### 2.2.2 - Avaliando Atributos numéricos"
   ]
  },
  {
   "cell_type": "markdown",
   "id": "04afbfda",
   "metadata": {},
   "source": [
    "A seguir serão avaliados os atributos numéricos para entender suas relações com a variável a ser prevista."
   ]
  },
  {
   "cell_type": "code",
   "execution_count": 15,
   "id": "97476ea3",
   "metadata": {
    "scrolled": false
   },
   "outputs": [
    {
     "data": {
      "text/html": [
       "<div>\n",
       "<style scoped>\n",
       "    .dataframe tbody tr th:only-of-type {\n",
       "        vertical-align: middle;\n",
       "    }\n",
       "\n",
       "    .dataframe tbody tr th {\n",
       "        vertical-align: top;\n",
       "    }\n",
       "\n",
       "    .dataframe thead th {\n",
       "        text-align: right;\n",
       "    }\n",
       "</style>\n",
       "<table border=\"1\" class=\"dataframe\">\n",
       "  <thead>\n",
       "    <tr style=\"text-align: right;\">\n",
       "      <th></th>\n",
       "      <th>SeniorCitizen</th>\n",
       "      <th>tenure</th>\n",
       "      <th>MonthlyCharges</th>\n",
       "      <th>TotalCharges</th>\n",
       "      <th>Churn</th>\n",
       "    </tr>\n",
       "  </thead>\n",
       "  <tbody>\n",
       "    <tr>\n",
       "      <th>count</th>\n",
       "      <td>7043.000000</td>\n",
       "      <td>7043.000000</td>\n",
       "      <td>7043.000000</td>\n",
       "      <td>7032.000000</td>\n",
       "      <td>7043.000000</td>\n",
       "    </tr>\n",
       "    <tr>\n",
       "      <th>mean</th>\n",
       "      <td>0.162147</td>\n",
       "      <td>32.371149</td>\n",
       "      <td>64.761692</td>\n",
       "      <td>2283.300441</td>\n",
       "      <td>0.265370</td>\n",
       "    </tr>\n",
       "    <tr>\n",
       "      <th>std</th>\n",
       "      <td>0.368612</td>\n",
       "      <td>24.559481</td>\n",
       "      <td>30.090047</td>\n",
       "      <td>2266.771362</td>\n",
       "      <td>0.441561</td>\n",
       "    </tr>\n",
       "    <tr>\n",
       "      <th>min</th>\n",
       "      <td>0.000000</td>\n",
       "      <td>0.000000</td>\n",
       "      <td>18.250000</td>\n",
       "      <td>18.800000</td>\n",
       "      <td>0.000000</td>\n",
       "    </tr>\n",
       "    <tr>\n",
       "      <th>25%</th>\n",
       "      <td>0.000000</td>\n",
       "      <td>9.000000</td>\n",
       "      <td>35.500000</td>\n",
       "      <td>401.450000</td>\n",
       "      <td>0.000000</td>\n",
       "    </tr>\n",
       "    <tr>\n",
       "      <th>50%</th>\n",
       "      <td>0.000000</td>\n",
       "      <td>29.000000</td>\n",
       "      <td>70.350000</td>\n",
       "      <td>1397.475000</td>\n",
       "      <td>0.000000</td>\n",
       "    </tr>\n",
       "    <tr>\n",
       "      <th>75%</th>\n",
       "      <td>0.000000</td>\n",
       "      <td>55.000000</td>\n",
       "      <td>89.850000</td>\n",
       "      <td>3794.737500</td>\n",
       "      <td>1.000000</td>\n",
       "    </tr>\n",
       "    <tr>\n",
       "      <th>max</th>\n",
       "      <td>1.000000</td>\n",
       "      <td>72.000000</td>\n",
       "      <td>118.750000</td>\n",
       "      <td>8684.800000</td>\n",
       "      <td>1.000000</td>\n",
       "    </tr>\n",
       "  </tbody>\n",
       "</table>\n",
       "</div>"
      ],
      "text/plain": [
       "       SeniorCitizen       tenure  MonthlyCharges  TotalCharges        Churn\n",
       "count    7043.000000  7043.000000     7043.000000   7032.000000  7043.000000\n",
       "mean        0.162147    32.371149       64.761692   2283.300441     0.265370\n",
       "std         0.368612    24.559481       30.090047   2266.771362     0.441561\n",
       "min         0.000000     0.000000       18.250000     18.800000     0.000000\n",
       "25%         0.000000     9.000000       35.500000    401.450000     0.000000\n",
       "50%         0.000000    29.000000       70.350000   1397.475000     0.000000\n",
       "75%         0.000000    55.000000       89.850000   3794.737500     1.000000\n",
       "max         1.000000    72.000000      118.750000   8684.800000     1.000000"
      ]
     },
     "execution_count": 15,
     "metadata": {},
     "output_type": "execute_result"
    }
   ],
   "source": [
    "numericos.describe()"
   ]
  },
  {
   "cell_type": "code",
   "execution_count": 16,
   "id": "b1f95340",
   "metadata": {
    "scrolled": false
   },
   "outputs": [
    {
     "data": {
      "image/png": "[encoded data removed]",
      "text/plain": [
       "<Figure size 1008x1008 with 4 Axes>"
      ]
     },
     "metadata": {
      "needs_background": "light"
     },
     "output_type": "display_data"
    }
   ],
   "source": [
    "fig, axs = plt.subplots(2, 2, figsize=(14, 14))\n",
    "sns.histplot(data=df, x=\"SeniorCitizen\", ax=axs[0, 0], hue = \"Churn\", multiple = \"dodge\")\n",
    "sns.histplot(data=df, x=\"tenure\",  ax=axs[0, 1],hue = \"Churn\", multiple = \"dodge\")\n",
    "sns.histplot(data=df, x=\"MonthlyCharges\", ax=axs[1, 0],hue = \"Churn\", multiple = \"dodge\")\n",
    "sns.histplot(data=df, x=\"TotalCharges\", ax=axs[1, 1],hue = \"Churn\", multiple = \"dodge\")\n",
    "plt.show()"
   ]
  },
  {
   "cell_type": "code",
   "execution_count": 17,
   "id": "d19c9b9f",
   "metadata": {},
   "outputs": [
    {
     "data": {
      "image/png": "[encoded data removed]",
      "text/plain": [
       "<Figure size 1440x720 with 2 Axes>"
      ]
     },
     "metadata": {
      "needs_background": "light"
     },
     "output_type": "display_data"
    }
   ],
   "source": [
    "plt.figure(figsize=(20, 10))\n",
    "heatmap = sns.heatmap(numericos.corr(), vmin=-1, vmax=1, annot=True, cmap='BrBG')\n",
    "heatmap.set_title('Mapa de correlação', fontdict={'fontsize':18}, pad=12);\n",
    "plt.show()"
   ]
  },
  {
   "cell_type": "markdown",
   "id": "43c74832",
   "metadata": {},
   "source": [
    "#### Conclusões\n",
    "A partir do mapa de correlação realizado e dos histogramas, podem ser feitas algumas indagações:\n",
    "1) Nenhum dos atributos possui forte correlação com a variável a ser prevista.\\\n",
    "2) tenure possui forte correlação com TotalCharges.\\\n",
    "3) MonthlyCharges possui boa correlação com TotalCharges, só que são variáveis redundantes, já que as duas indicam o custo do cliente com a empresa, só que dispostos em intervalos de tempos diferentes.\\\n",
    "4) Clientes idosos tem taxas de churn mais altas que clientes mais jovens.\\\n",
    "5) Clientes que contratam os serviços da empresa há mais tempo, tem menores taxas de churn."
   ]
  },
  {
   "cell_type": "markdown",
   "id": "24d318b9",
   "metadata": {},
   "source": [
    "### 2.2.3 - Avaliando atributos categóricos"
   ]
  },
  {
   "cell_type": "markdown",
   "id": "63e014c7",
   "metadata": {},
   "source": [
    "Agora será avaliado cada atributo categórico com relação à variavel a ser prevista para compreender sua relevância."
   ]
  },
  {
   "cell_type": "code",
   "execution_count": 18,
   "id": "6cc6febe",
   "metadata": {},
   "outputs": [
    {
     "name": "stdout",
     "output_type": "stream",
     "text": [
      "gender :  ['Female' 'Male']\n",
      "Partner :  ['Yes' 'No']\n",
      "Dependents :  ['No' 'Yes']\n",
      "PhoneService :  ['No' 'Yes']\n",
      "MultipleLines :  ['No phone service' 'No' 'Yes']\n",
      "InternetService :  ['DSL' 'Fiber optic' 'No']\n",
      "OnlineSecurity :  ['No' 'Yes' 'No internet service']\n",
      "OnlineBackup :  ['Yes' 'No' 'No internet service']\n",
      "DeviceProtection :  ['No' 'Yes' 'No internet service']\n",
      "TechSupport :  ['No' 'Yes' 'No internet service']\n",
      "StreamingTV :  ['No' 'Yes' 'No internet service']\n",
      "StreamingMovies :  ['No' 'Yes' 'No internet service']\n",
      "Contract :  ['Month-to-month' 'One year' 'Two year']\n",
      "PaperlessBilling :  ['Yes' 'No']\n",
      "PaymentMethod :  ['Electronic check' 'Mailed check' 'Bank transfer (automatic)'\n",
      " 'Credit card (automatic)']\n"
     ]
    }
   ],
   "source": [
    "for column in categoricos.columns:\n",
    "    print(column,\": \",categoricos[column].unique())"
   ]
  },
  {
   "cell_type": "markdown",
   "id": "930e3cc1",
   "metadata": {},
   "source": [
    "#### gender"
   ]
  },
  {
   "cell_type": "code",
   "execution_count": 40,
   "id": "336cbd0e",
   "metadata": {},
   "outputs": [
    {
     "data": {
      "image/png": "[encoded data removed]",
      "text/plain": [
       "<Figure size 720x720 with 1 Axes>"
      ]
     },
     "metadata": {
      "needs_background": "light"
     },
     "output_type": "display_data"
    }
   ],
   "source": [
    "plt.figure(figsize=(10, 10))\n",
    "histplot = sns.histplot(data=df, x=\"gender\", hue = \"Churn\", multiple = \"dodge\")\n",
    "histplot.set_title('Histograma', fontdict={'fontsize':18}, pad=12);\n",
    "plt.show()"
   ]
  },
  {
   "cell_type": "code",
   "execution_count": 41,
   "id": "b49632be",
   "metadata": {},
   "outputs": [
    {
     "name": "stdout",
     "output_type": "stream",
     "text": [
      "A proporção da rotatividade de homens é 26.16% e de mulheres é 26.92%.\n"
     ]
    }
   ],
   "source": [
    "Female = round(df[df[\"gender\"] == \"Female\"][\"Churn\"].value_counts()[1] / len(df[df[\"gender\"] == \"Female\"])*100,2)\n",
    "Male = round(df[df[\"gender\"] == \"Male\"][\"Churn\"].value_counts()[1] / len(df[df[\"gender\"] == \"Male\"])*100,2)\n",
    "print(f\"A proporção da rotatividade de homens é {Male}% e de mulheres é {Female}%.\")"
   ]
  },
  {
   "cell_type": "markdown",
   "id": "f004ea33",
   "metadata": {},
   "source": [
    "Não há ganho de informação do gênero com relação à rotatividade de clientes."
   ]
  },
  {
   "cell_type": "markdown",
   "id": "9fa94eca",
   "metadata": {},
   "source": [
    "#### Partner"
   ]
  },
  {
   "cell_type": "code",
   "execution_count": 42,
   "id": "3f3f5125",
   "metadata": {},
   "outputs": [
    {
     "data": {
      "image/png": "[encoded data removed]",
      "text/plain": [
       "<Figure size 720x720 with 1 Axes>"
      ]
     },
     "metadata": {
      "needs_background": "light"
     },
     "output_type": "display_data"
    }
   ],
   "source": [
    "plt.figure(figsize=(10, 10))\n",
    "histplot = sns.histplot(data=df, x=\"Partner\", hue = \"Churn\", multiple = \"dodge\")\n",
    "histplot.set_title('Histograma', fontdict={'fontsize':18}, pad=12);\n",
    "plt.show()"
   ]
  },
  {
   "cell_type": "code",
   "execution_count": 43,
   "id": "ee315e8e",
   "metadata": {},
   "outputs": [
    {
     "name": "stdout",
     "output_type": "stream",
     "text": [
      "A proporção da rotatividade de pessoas que tem parceiro é 19.66% e de pessoas que não tem é 32.96%.\n"
     ]
    }
   ],
   "source": [
    "Yes = round(df[df[\"Partner\"] == \"Yes\"][\"Churn\"].value_counts()[1] / len(df[df[\"Partner\"] == \"Yes\"])*100,2)\n",
    "No = round(df[df[\"Partner\"] == \"No\"][\"Churn\"].value_counts()[1] / len(df[df[\"Partner\"] == \"No\"])*100,2)\n",
    "print(f\"A proporção da rotatividade de pessoas que tem parceiro é {Yes}% e de pessoas que não tem é {No}%.\")"
   ]
  },
  {
   "cell_type": "markdown",
   "id": "c0a6ad17",
   "metadata": {},
   "source": [
    "Clientes que não são casados tem maior chance de rotatividade."
   ]
  },
  {
   "cell_type": "markdown",
   "id": "5f112062",
   "metadata": {},
   "source": [
    "#### Dependents"
   ]
  },
  {
   "cell_type": "code",
   "execution_count": 44,
   "id": "ae7aef1d",
   "metadata": {},
   "outputs": [
    {
     "data": {
      "image/png": "[encoded data removed]",
      "text/plain": [
       "<Figure size 720x720 with 1 Axes>"
      ]
     },
     "metadata": {
      "needs_background": "light"
     },
     "output_type": "display_data"
    }
   ],
   "source": [
    "plt.figure(figsize=(10, 10))\n",
    "histplot = sns.histplot(data=df, x=\"Dependents\", hue = \"Churn\", multiple = \"dodge\")\n",
    "histplot.set_title('Histograma', fontdict={'fontsize':18}, pad=12);\n",
    "plt.show()"
   ]
  },
  {
   "cell_type": "code",
   "execution_count": 45,
   "id": "70f41b9f",
   "metadata": {},
   "outputs": [
    {
     "name": "stdout",
     "output_type": "stream",
     "text": [
      "A proporção da rotatividade de pessoas que tem filhos é 15.45% e de pessoas que não tem é 31.28%.\n"
     ]
    }
   ],
   "source": [
    "Yes = round(df[df[\"Dependents\"] == \"Yes\"][\"Churn\"].value_counts()[1] / len(df[df[\"Dependents\"] == \"Yes\"])*100,2)\n",
    "No = round(df[df[\"Dependents\"] == \"No\"][\"Churn\"].value_counts()[1] / len(df[df[\"Dependents\"] == \"No\"])*100,2)\n",
    "print(f\"A proporção da rotatividade de pessoas que tem filhos é {Yes}% e de pessoas que não tem é {No}%.\")"
   ]
  },
  {
   "cell_type": "markdown",
   "id": "5d2c797b",
   "metadata": {},
   "source": [
    "Clientes que não tem filhos tem chances bem maiores de rotatividade."
   ]
  },
  {
   "cell_type": "markdown",
   "id": "369b0bea",
   "metadata": {},
   "source": [
    "#### PhoneService"
   ]
  },
  {
   "cell_type": "code",
   "execution_count": 46,
   "id": "cac58545",
   "metadata": {},
   "outputs": [
    {
     "data": {
      "image/png": "[encoded data removed]",
      "text/plain": [
       "<Figure size 720x720 with 1 Axes>"
      ]
     },
     "metadata": {
      "needs_background": "light"
     },
     "output_type": "display_data"
    }
   ],
   "source": [
    "plt.figure(figsize=(10, 10))\n",
    "histplot = sns.histplot(data=df, x=\"PhoneService\", hue = \"Churn\", multiple = \"dodge\")\n",
    "histplot.set_title('Histograma', fontdict={'fontsize':18}, pad=12);\n",
    "plt.show()"
   ]
  },
  {
   "cell_type": "code",
   "execution_count": 47,
   "id": "bfeaf2fd",
   "metadata": {},
   "outputs": [
    {
     "name": "stdout",
     "output_type": "stream",
     "text": [
      "A proporção da rotatividade de pessoas possuem o plano é 26.71% e de pessoas que não tem é 24.93%.\n"
     ]
    }
   ],
   "source": [
    "Yes = round(df[df[\"PhoneService\"] == \"Yes\"][\"Churn\"].value_counts()[1] / len(df[df[\"PhoneService\"] == \"Yes\"])*100,2)\n",
    "No = round(df[df[\"PhoneService\"] == \"No\"][\"Churn\"].value_counts()[1] / len(df[df[\"PhoneService\"] == \"No\"])*100,2)\n",
    "print(f\"A proporção da rotatividade de pessoas possuem o plano é {Yes}% e de pessoas que não tem é {No}%.\")"
   ]
  },
  {
   "cell_type": "markdown",
   "id": "f4345524",
   "metadata": {},
   "source": [
    "Não há diferença relevante na proporção de rotatividade entre as pessoas que utilizam o plano ou não."
   ]
  },
  {
   "cell_type": "markdown",
   "id": "6b71f03f",
   "metadata": {},
   "source": [
    "#### MultipleLines"
   ]
  },
  {
   "cell_type": "markdown",
   "id": "60c3acbb",
   "metadata": {},
   "source": [
    "Nesse atributo os valores 'No phone service' e 'No' entregam a mesma informação, então serão substituídos pelo mesmo valor. "
   ]
  },
  {
   "cell_type": "code",
   "execution_count": 48,
   "id": "ff6bf46a",
   "metadata": {},
   "outputs": [],
   "source": [
    "df[\"MultipleLines\"] = df[\"MultipleLines\"].replace('No phone service','No')"
   ]
  },
  {
   "cell_type": "code",
   "execution_count": 49,
   "id": "febdf9d3",
   "metadata": {},
   "outputs": [
    {
     "data": {
      "image/png": "[encoded data removed]",
      "text/plain": [
       "<Figure size 720x720 with 1 Axes>"
      ]
     },
     "metadata": {
      "needs_background": "light"
     },
     "output_type": "display_data"
    }
   ],
   "source": [
    "plt.figure(figsize=(10, 10))\n",
    "histplot = sns.histplot(data=df, x=\"MultipleLines\", hue = \"Churn\", multiple = \"dodge\")\n",
    "histplot.set_title('Histograma', fontdict={'fontsize':18}, pad=12);\n",
    "plt.show()"
   ]
  },
  {
   "cell_type": "code",
   "execution_count": 50,
   "id": "78cbc7c1",
   "metadata": {},
   "outputs": [
    {
     "name": "stdout",
     "output_type": "stream",
     "text": [
      "A proporção da rotatividade de pessoas possuem múltiplas linhas telefônicas é 28.61% e de pessoas que não tem é 25.02%.\n"
     ]
    }
   ],
   "source": [
    "Yes = round(df[df[\"MultipleLines\"] == \"Yes\"][\"Churn\"].value_counts()[1] / len(df[df[\"MultipleLines\"] == \"Yes\"])*100,2)\n",
    "No = round(df[df[\"MultipleLines\"] == \"No\"][\"Churn\"].value_counts()[1] / len(df[df[\"MultipleLines\"] == \"No\"])*100,2)\n",
    "print(f\"A proporção da rotatividade de pessoas possuem múltiplas linhas telefônicas é {Yes}% e de pessoas que não tem é {No}%.\")"
   ]
  },
  {
   "cell_type": "markdown",
   "id": "a504e3b0",
   "metadata": {},
   "source": [
    "Há muito pouca diferença de rotatividade entre as pessoas que possuem mútiplas linhas telefônicas."
   ]
  },
  {
   "cell_type": "markdown",
   "id": "74b0063e",
   "metadata": {},
   "source": [
    "#### InternetService"
   ]
  },
  {
   "cell_type": "code",
   "execution_count": 51,
   "id": "1b01592d",
   "metadata": {},
   "outputs": [
    {
     "data": {
      "image/png": "[encoded data removed]",
      "text/plain": [
       "<Figure size 720x720 with 1 Axes>"
      ]
     },
     "metadata": {
      "needs_background": "light"
     },
     "output_type": "display_data"
    }
   ],
   "source": [
    "plt.figure(figsize=(10, 10))\n",
    "histplot = sns.histplot(data=df, x=\"InternetService\", hue = \"Churn\", multiple = \"dodge\")\n",
    "histplot.set_title('Histograma', fontdict={'fontsize':18}, pad=12);\n",
    "plt.show()"
   ]
  },
  {
   "cell_type": "code",
   "execution_count": 52,
   "id": "0ede534c",
   "metadata": {},
   "outputs": [
    {
     "name": "stdout",
     "output_type": "stream",
     "text": [
      "A proporção da rotatividade de pessoas assinam internet DSL é 18.96%, que assinam fibra ótica é 41.89% e que não assinam é 7.4%.\n"
     ]
    }
   ],
   "source": [
    "DSL = round(df[df[\"InternetService\"] == \"DSL\"][\"Churn\"].value_counts()[1] / len(df[df[\"InternetService\"] == \"DSL\"])*100,2)\n",
    "FibraOtica = round(df[df[\"InternetService\"] == \"Fiber optic\"][\"Churn\"].value_counts()[1] / len(df[df[\"InternetService\"] == \"Fiber optic\"])*100,2)\n",
    "No = round(df[df[\"InternetService\"] == \"No\"][\"Churn\"].value_counts()[1] / len(df[df[\"InternetService\"] == \"No\"])*100,2)\n",
    "print(f\"A proporção da rotatividade de pessoas assinam internet DSL é {DSL}%, que assinam fibra ótica é {FibraOtica}% e que não assinam é {No}%.\")"
   ]
  },
  {
   "cell_type": "markdown",
   "id": "8bbb9aab",
   "metadata": {},
   "source": [
    "Pessoas que assinam fibra ótica tem chance bem maior de rotatividade, enquanto quem não assina tem chance bem menor."
   ]
  },
  {
   "cell_type": "markdown",
   "id": "482a9659",
   "metadata": {},
   "source": [
    "#### OnlineSecurity"
   ]
  },
  {
   "cell_type": "markdown",
   "id": "b8e63f72",
   "metadata": {},
   "source": [
    "Nesse atributo os valores 'No internet service' e 'No' entregam a mesma informação, então serão substituídos pelo mesmo valor. "
   ]
  },
  {
   "cell_type": "code",
   "execution_count": 53,
   "id": "17475bf1",
   "metadata": {},
   "outputs": [],
   "source": [
    "df[\"OnlineSecurity\"] = df[\"OnlineSecurity\"].replace(\"No internet service\",\"No\")"
   ]
  },
  {
   "cell_type": "code",
   "execution_count": 54,
   "id": "f76512a4",
   "metadata": {},
   "outputs": [
    {
     "data": {
      "image/png": "[encoded data removed]",
      "text/plain": [
       "<Figure size 720x720 with 1 Axes>"
      ]
     },
     "metadata": {
      "needs_background": "light"
     },
     "output_type": "display_data"
    }
   ],
   "source": [
    "plt.figure(figsize=(10, 10))\n",
    "histplot = sns.histplot(data=df, x=\"OnlineSecurity\", hue = \"Churn\", multiple = \"dodge\")\n",
    "histplot.set_title('Histograma', fontdict={'fontsize':18}, pad=12);\n",
    "plt.show()"
   ]
  },
  {
   "cell_type": "code",
   "execution_count": 55,
   "id": "b3630bb1",
   "metadata": {},
   "outputs": [
    {
     "name": "stdout",
     "output_type": "stream",
     "text": [
      "A proporção da rotatividade de pessoas que assinam seguraça virtual extra 14.61% e de pessoas que não é 31.33%.\n"
     ]
    }
   ],
   "source": [
    "Yes = round(df[df[\"OnlineSecurity\"] == \"Yes\"][\"Churn\"].value_counts()[1] / len(df[df[\"OnlineSecurity\"] == \"Yes\"])*100,2)\n",
    "No = round(df[df[\"OnlineSecurity\"] == \"No\"][\"Churn\"].value_counts()[1] / len(df[df[\"OnlineSecurity\"] == \"No\"])*100,2)\n",
    "print(f\"A proporção da rotatividade de pessoas que assinam seguraça virtual extra {Yes}% e de pessoas que não é {No}%.\")"
   ]
  },
  {
   "cell_type": "markdown",
   "id": "ed409e15",
   "metadata": {},
   "source": [
    "Quem não assina por segurança extra, tem chance bem maior de rotatividade."
   ]
  },
  {
   "cell_type": "markdown",
   "id": "514b9a99",
   "metadata": {},
   "source": [
    "#### OnlineBackup"
   ]
  },
  {
   "cell_type": "markdown",
   "id": "4ec10d32",
   "metadata": {},
   "source": [
    "Nesse atributo os valores 'No internet service' e 'No' entregam a mesma informação, então serão substituídos pelo mesmo valor. "
   ]
  },
  {
   "cell_type": "code",
   "execution_count": 56,
   "id": "44e413e1",
   "metadata": {},
   "outputs": [],
   "source": [
    "df[\"OnlineBackup\"] = df[\"OnlineBackup\"].replace(\"No internet service\",\"No\")"
   ]
  },
  {
   "cell_type": "code",
   "execution_count": 57,
   "id": "4f0a84fe",
   "metadata": {},
   "outputs": [
    {
     "data": {
      "image/png": "[encoded data removed]",
      "text/plain": [
       "<Figure size 720x720 with 1 Axes>"
      ]
     },
     "metadata": {
      "needs_background": "light"
     },
     "output_type": "display_data"
    }
   ],
   "source": [
    "plt.figure(figsize=(10, 10))\n",
    "histplot = sns.histplot(data=df, x=\"OnlineBackup\", hue = \"Churn\", multiple = \"dodge\")\n",
    "histplot.set_title('Histograma', fontdict={'fontsize':18}, pad=12);\n",
    "plt.show()"
   ]
  },
  {
   "cell_type": "code",
   "execution_count": 58,
   "id": "1f1ab2c1",
   "metadata": {},
   "outputs": [
    {
     "name": "stdout",
     "output_type": "stream",
     "text": [
      "A proporção da rotatividade de pessoas que assinam backup 21.53% e de pessoas que não é 29.17%.\n"
     ]
    }
   ],
   "source": [
    "Yes = round(df[df[\"OnlineBackup\"] == \"Yes\"][\"Churn\"].value_counts()[1] / len(df[df[\"OnlineBackup\"] == \"Yes\"])*100,2)\n",
    "No = round(df[df[\"OnlineBackup\"] == \"No\"][\"Churn\"].value_counts()[1] / len(df[df[\"OnlineBackup\"] == \"No\"])*100,2)\n",
    "print(f\"A proporção da rotatividade de pessoas que assinam backup {Yes}% e de pessoas que não é {No}%.\")"
   ]
  },
  {
   "cell_type": "markdown",
   "id": "658b85d4",
   "metadata": {},
   "source": [
    "Há uma chance maior de rotatividade para pessoas que não assinam backup. "
   ]
  },
  {
   "cell_type": "markdown",
   "id": "db30ab4b",
   "metadata": {},
   "source": [
    "#### DeviceProtection"
   ]
  },
  {
   "cell_type": "markdown",
   "id": "9308944a",
   "metadata": {},
   "source": [
    "Nesse atributo os valores 'No internet service' e 'No' entregam a mesma informação, então serão substituídos pelo mesmo valor. "
   ]
  },
  {
   "cell_type": "code",
   "execution_count": 59,
   "id": "a5965da0",
   "metadata": {},
   "outputs": [],
   "source": [
    "df[\"DeviceProtection\"] = df[\"DeviceProtection\"].replace(\"No internet service\",\"No\")"
   ]
  },
  {
   "cell_type": "code",
   "execution_count": 60,
   "id": "ee62a6c3",
   "metadata": {},
   "outputs": [
    {
     "data": {
      "image/png": "[encoded data removed]",
      "text/plain": [
       "<Figure size 720x720 with 1 Axes>"
      ]
     },
     "metadata": {
      "needs_background": "light"
     },
     "output_type": "display_data"
    }
   ],
   "source": [
    "plt.figure(figsize=(10, 10))\n",
    "histplot = sns.histplot(data=df, x=\"DeviceProtection\", hue = \"Churn\", multiple = \"dodge\")\n",
    "histplot.set_title('Histograma', fontdict={'fontsize':18}, pad=12);\n",
    "plt.show()"
   ]
  },
  {
   "cell_type": "code",
   "execution_count": 61,
   "id": "21e7bd7c",
   "metadata": {},
   "outputs": [
    {
     "name": "stdout",
     "output_type": "stream",
     "text": [
      "A proporção da rotatividade de pessoas que assinam segurança extra para o equipamento de internet é 22.5% e de pessoas que não é 28.65%.\n"
     ]
    }
   ],
   "source": [
    "Yes = round(df[df[\"DeviceProtection\"] == \"Yes\"][\"Churn\"].value_counts()[1] / len(df[df[\"DeviceProtection\"] == \"Yes\"])*100,2)\n",
    "No = round(df[df[\"DeviceProtection\"] == \"No\"][\"Churn\"].value_counts()[1] / len(df[df[\"DeviceProtection\"] == \"No\"])*100,2)\n",
    "print(f\"A proporção da rotatividade de pessoas que assinam segurança extra para o equipamento de internet é {Yes}% e de pessoas que não é {No}%.\")"
   ]
  },
  {
   "cell_type": "markdown",
   "id": "29e1f8d7",
   "metadata": {},
   "source": [
    "Há uma chance maior de rotatividade para pessoas que não assinam segurança extra para o equipamento de internet."
   ]
  },
  {
   "cell_type": "markdown",
   "id": "f0f1507f",
   "metadata": {},
   "source": [
    "#### TechSupport"
   ]
  },
  {
   "cell_type": "markdown",
   "id": "10c619ca",
   "metadata": {},
   "source": [
    "Nesse atributo os valores 'No internet service' e 'No' entregam a mesma informação, então serão substituídos pelo mesmo valor. "
   ]
  },
  {
   "cell_type": "code",
   "execution_count": 62,
   "id": "35f4e02f",
   "metadata": {},
   "outputs": [],
   "source": [
    "df[\"TechSupport\"] = df[\"TechSupport\"].replace(\"No internet service\",\"No\")"
   ]
  },
  {
   "cell_type": "code",
   "execution_count": 63,
   "id": "b3da9745",
   "metadata": {},
   "outputs": [
    {
     "data": {
      "image/png": "[encoded data removed]",
      "text/plain": [
       "<Figure size 720x720 with 1 Axes>"
      ]
     },
     "metadata": {
      "needs_background": "light"
     },
     "output_type": "display_data"
    }
   ],
   "source": [
    "plt.figure(figsize=(10, 10))\n",
    "histplot = sns.histplot(data=df, x=\"TechSupport\", hue = \"Churn\", multiple = \"dodge\")\n",
    "histplot.set_title('Histograma', fontdict={'fontsize':18}, pad=12);\n",
    "plt.show()"
   ]
  },
  {
   "cell_type": "code",
   "execution_count": 64,
   "id": "f30bd918",
   "metadata": {},
   "outputs": [
    {
     "name": "stdout",
     "output_type": "stream",
     "text": [
      "A proporção da rotatividade de pessoas que assinam assistência técnica extra é 15.17% e de pessoas que não é 31.19%.\n"
     ]
    }
   ],
   "source": [
    "Yes = round(df[df[\"TechSupport\"] == \"Yes\"][\"Churn\"].value_counts()[1] / len(df[df[\"TechSupport\"] == \"Yes\"])*100,2)\n",
    "No = round(df[df[\"TechSupport\"] == \"No\"][\"Churn\"].value_counts()[1] / len(df[df[\"TechSupport\"] == \"No\"])*100,2)\n",
    "print(f\"A proporção da rotatividade de pessoas que assinam assistência técnica extra é {Yes}% e de pessoas que não é {No}%.\")"
   ]
  },
  {
   "cell_type": "markdown",
   "id": "9a6bfa47",
   "metadata": {},
   "source": [
    "Pessoas que não assinam por assistência técnica extra tem chance bem maior de rotatividade."
   ]
  },
  {
   "cell_type": "markdown",
   "id": "a0871039",
   "metadata": {},
   "source": [
    "#### StreamingTV"
   ]
  },
  {
   "cell_type": "markdown",
   "id": "6ce9217e",
   "metadata": {},
   "source": [
    "Nesse atributo os valores 'No internet service' e 'No' entregam a mesma informação, então serão substituídos pelo mesmo valor. "
   ]
  },
  {
   "cell_type": "code",
   "execution_count": 65,
   "id": "848ceab2",
   "metadata": {},
   "outputs": [],
   "source": [
    "df[\"StreamingTV\"] = df[\"StreamingTV\"].replace(\"No internet service\",\"No\")"
   ]
  },
  {
   "cell_type": "code",
   "execution_count": 66,
   "id": "a94abe68",
   "metadata": {},
   "outputs": [
    {
     "data": {
      "image/png": "[encoded data removed]",
      "text/plain": [
       "<Figure size 720x720 with 1 Axes>"
      ]
     },
     "metadata": {
      "needs_background": "light"
     },
     "output_type": "display_data"
    }
   ],
   "source": [
    "plt.figure(figsize=(10, 10))\n",
    "histplot = sns.histplot(data=df, x=\"StreamingTV\", hue = \"Churn\", multiple = \"dodge\")\n",
    "histplot.set_title('Histograma', fontdict={'fontsize':18}, pad=12);\n",
    "plt.show()"
   ]
  },
  {
   "cell_type": "code",
   "execution_count": 67,
   "id": "a058ba04",
   "metadata": {},
   "outputs": [
    {
     "name": "stdout",
     "output_type": "stream",
     "text": [
      "A proporção da rotatividade de pessoas que usam a internet para assistir programas de TV em serviço de streaming é 30.07% e de pessoas que não é 24.33%.\n"
     ]
    }
   ],
   "source": [
    "Yes = round(df[df[\"StreamingTV\"] == \"Yes\"][\"Churn\"].value_counts()[1] / len(df[df[\"StreamingTV\"] == \"Yes\"])*100,2)\n",
    "No = round(df[df[\"StreamingTV\"] == \"No\"][\"Churn\"].value_counts()[1] / len(df[df[\"StreamingTV\"] == \"No\"])*100,2)\n",
    "print(f\"A proporção da rotatividade de pessoas que usam a internet para assistir programas de TV em serviço de streaming é {Yes}% e de pessoas que não é {No}%.\")"
   ]
  },
  {
   "cell_type": "markdown",
   "id": "9c92589a",
   "metadata": {},
   "source": [
    "Pessoas que usam a internet para assistir programas de TV em serviços de streaming tem mais chance de rotatividade."
   ]
  },
  {
   "cell_type": "markdown",
   "id": "c4bc5af7",
   "metadata": {},
   "source": [
    "#### StreamingMovies"
   ]
  },
  {
   "cell_type": "markdown",
   "id": "299b9493",
   "metadata": {},
   "source": [
    "Nesse atributo os valores 'No internet service' e 'No' entregam a mesma informação, então serão substituídos pelo mesmo valor. "
   ]
  },
  {
   "cell_type": "code",
   "execution_count": 68,
   "id": "701740b1",
   "metadata": {},
   "outputs": [],
   "source": [
    "df[\"StreamingMovies\"] = df[\"StreamingMovies\"].replace(\"No internet service\",\"No\")"
   ]
  },
  {
   "cell_type": "code",
   "execution_count": 69,
   "id": "8b81909a",
   "metadata": {},
   "outputs": [
    {
     "data": {
      "image/png": "[encoded data removed]",
      "text/plain": [
       "<Figure size 720x720 with 1 Axes>"
      ]
     },
     "metadata": {
      "needs_background": "light"
     },
     "output_type": "display_data"
    }
   ],
   "source": [
    "plt.figure(figsize=(10, 10))\n",
    "histplot = sns.histplot(data=df, x=\"StreamingMovies\", hue = \"Churn\", multiple = \"dodge\")\n",
    "histplot.set_title('Histograma', fontdict={'fontsize':18}, pad=12);\n",
    "plt.show()"
   ]
  },
  {
   "cell_type": "code",
   "execution_count": 70,
   "id": "e0d64d4f",
   "metadata": {},
   "outputs": [
    {
     "name": "stdout",
     "output_type": "stream",
     "text": [
      "A proporção da rotatividade de pessoas que usam a internet para assistir filmes em serviço de streaming é 29.94% e de pessoas que não é 24.38%.\n"
     ]
    }
   ],
   "source": [
    "Yes = round(df[df[\"StreamingMovies\"] == \"Yes\"][\"Churn\"].value_counts()[1] / len(df[df[\"StreamingMovies\"] == \"Yes\"])*100,2)\n",
    "No = round(df[df[\"StreamingMovies\"] == \"No\"][\"Churn\"].value_counts()[1] / len(df[df[\"StreamingMovies\"] == \"No\"])*100,2)\n",
    "print(f\"A proporção da rotatividade de pessoas que usam a internet para assistir filmes em serviço de streaming é {Yes}% e de pessoas que não é {No}%.\")"
   ]
  },
  {
   "cell_type": "markdown",
   "id": "34598457",
   "metadata": {},
   "source": [
    "Pessoas que usam a internet para assistir filmes em serviços de streaming tem mais chance de rotatividade.\\\n",
    "Esse atributo é redundante em relação ao anterior, já que trás praticamente a mesma informação com a mesma proporção."
   ]
  },
  {
   "cell_type": "markdown",
   "id": "8c68affa",
   "metadata": {},
   "source": [
    "#### Contract"
   ]
  },
  {
   "cell_type": "code",
   "execution_count": 71,
   "id": "1b3d0e57",
   "metadata": {},
   "outputs": [
    {
     "data": {
      "image/png": "[encoded data removed]",
      "text/plain": [
       "<Figure size 720x720 with 1 Axes>"
      ]
     },
     "metadata": {
      "needs_background": "light"
     },
     "output_type": "display_data"
    }
   ],
   "source": [
    "plt.figure(figsize=(10, 10))\n",
    "histplot = sns.histplot(data=df, x=\"Contract\", hue = \"Churn\", multiple = \"dodge\")\n",
    "histplot.set_title('Histograma', fontdict={'fontsize':18}, pad=12);\n",
    "plt.show()"
   ]
  },
  {
   "cell_type": "code",
   "execution_count": 72,
   "id": "7b54f0d7",
   "metadata": {},
   "outputs": [
    {
     "name": "stdout",
     "output_type": "stream",
     "text": [
      "A proporção da rotatividade de pessoas que tem contrato mensal é 42.71%,que tem contrato anual é 11.27% e contrato Bianual é 2.83%.\n"
     ]
    }
   ],
   "source": [
    "Mensal = round(df[df[\"Contract\"] == \"Month-to-month\"][\"Churn\"].value_counts()[1] / len(df[df[\"Contract\"] == \"Month-to-month\"])*100,2)\n",
    "Anual = round(df[df[\"Contract\"] == \"One year\"][\"Churn\"].value_counts()[1] / len(df[df[\"Contract\"] == \"One year\"])*100,2)\n",
    "Bianual = round(df[df[\"Contract\"] == \"Two year\"][\"Churn\"].value_counts()[1] / len(df[df[\"Contract\"] == \"Two year\"])*100,2)\n",
    "print(f\"A proporção da rotatividade de pessoas que tem contrato mensal é {Mensal}%,que tem contrato anual é {Anual}% e contrato Bianual é {Bianual}%.\")"
   ]
  },
  {
   "cell_type": "markdown",
   "id": "7948fa3b",
   "metadata": {},
   "source": [
    "Pessoas com modelo de contrato mensal tem a maior proporção de rotatividade, enquanto quem possui contrato bianual, tem a menor chance."
   ]
  },
  {
   "cell_type": "markdown",
   "id": "6fd64fe3",
   "metadata": {},
   "source": [
    "#### PaperlessBilling"
   ]
  },
  {
   "cell_type": "code",
   "execution_count": 73,
   "id": "2343c045",
   "metadata": {},
   "outputs": [
    {
     "data": {
      "image/png": "[encoded data removed]",
      "text/plain": [
       "<Figure size 720x720 with 1 Axes>"
      ]
     },
     "metadata": {
      "needs_background": "light"
     },
     "output_type": "display_data"
    }
   ],
   "source": [
    "plt.figure(figsize=(10, 10))\n",
    "histplot = sns.histplot(data=df, x=\"PaperlessBilling\", hue = \"Churn\", multiple = \"dodge\")\n",
    "histplot.set_title('Histograma', fontdict={'fontsize':18}, pad=12);\n",
    "plt.show()"
   ]
  },
  {
   "cell_type": "code",
   "execution_count": 74,
   "id": "24442280",
   "metadata": {},
   "outputs": [
    {
     "name": "stdout",
     "output_type": "stream",
     "text": [
      "A proporção da rotatividade de pessoas que preferem pagar contas de forma virtual é 33.57% e de pessoas que não é 16.33%.\n"
     ]
    }
   ],
   "source": [
    "Yes = round(df[df[\"PaperlessBilling\"] == \"Yes\"][\"Churn\"].value_counts()[1] / len(df[df[\"PaperlessBilling\"] == \"Yes\"])*100,2)\n",
    "No = round(df[df[\"PaperlessBilling\"] == \"No\"][\"Churn\"].value_counts()[1] / len(df[df[\"PaperlessBilling\"] == \"No\"])*100,2)\n",
    "print(f\"A proporção da rotatividade de pessoas que preferem pagar contas de forma virtual é {Yes}% e de pessoas que não é {No}%.\")"
   ]
  },
  {
   "cell_type": "markdown",
   "id": "7094ce03",
   "metadata": {},
   "source": [
    "Clientes que optam por as pagar contas online tem chance de rotatividade bem maior."
   ]
  },
  {
   "cell_type": "markdown",
   "id": "24e4f66f",
   "metadata": {},
   "source": [
    "#### PaymentMethod"
   ]
  },
  {
   "cell_type": "code",
   "execution_count": 75,
   "id": "5264ee31",
   "metadata": {},
   "outputs": [
    {
     "data": {
      "image/png": "[encoded data removed]",
      "text/plain": [
       "<Figure size 720x720 with 1 Axes>"
      ]
     },
     "metadata": {
      "needs_background": "light"
     },
     "output_type": "display_data"
    }
   ],
   "source": [
    "plt.figure(figsize=(10, 10))\n",
    "histplot = sns.histplot(data=df, x=\"PaymentMethod\", hue = \"Churn\", multiple = \"dodge\")\n",
    "histplot.set_title('Histograma', fontdict={'fontsize':18}, pad=12);\n",
    "plt.show()"
   ]
  },
  {
   "cell_type": "code",
   "execution_count": 76,
   "id": "a4af53e8",
   "metadata": {
    "scrolled": true
   },
   "outputs": [
    {
     "name": "stdout",
     "output_type": "stream",
     "text": [
      "A proporção da rotatividade de pessoas que optam por cheque eletrônico é 45.29%,que optam por cheque por email é 19.11%,\n",
      " que optam por transferência bancária é 16.71% e que optam por cartão de crédito é 15.24%.\n"
     ]
    }
   ],
   "source": [
    "EC = round(df[df[\"PaymentMethod\"] == \"Electronic check\"][\"Churn\"].value_counts()[1] / len(df[df[\"PaymentMethod\"] == \"Electronic check\"])*100,2)\n",
    "MC = round(df[df[\"PaymentMethod\"] == \"Mailed check\"][\"Churn\"].value_counts()[1] / len(df[df[\"PaymentMethod\"] == \"Mailed check\"])*100,2)\n",
    "BT = round(df[df[\"PaymentMethod\"] == \"Bank transfer (automatic)\"][\"Churn\"].value_counts()[1] / len(df[df[\"PaymentMethod\"] == \"Bank transfer (automatic)\"])*100,2)\n",
    "CC = round(df[df[\"PaymentMethod\"] == \"Credit card (automatic)\"][\"Churn\"].value_counts()[1] / len(df[df[\"PaymentMethod\"] == \"Credit card (automatic)\"])*100,2)\n",
    "print(f\"A proporção da rotatividade de pessoas que optam por cheque eletrônico é {EC}%,que optam por cheque por email é {MC}%,\\n que optam por transferência bancária é {BT}% e que optam por cartão de crédito é {CC}%.\")"
   ]
  },
  {
   "cell_type": "markdown",
   "id": "05a6fe9d",
   "metadata": {},
   "source": [
    "Os clientes que optam por utilizar o pagamento das contas por cheque eletônico tem chances muito altas de rotatividade."
   ]
  },
  {
   "cell_type": "code",
   "execution_count": 89,
   "id": "addd7769",
   "metadata": {},
   "outputs": [
    {
     "data": {
      "image/png": "[encoded data removed]",
      "text/plain": [
       "<Figure size 1440x2160 with 16 Axes>"
      ]
     },
     "metadata": {
      "needs_background": "light"
     },
     "output_type": "display_data"
    }
   ],
   "source": [
    "fig, axs = plt.subplots(8, 2, figsize=(20, 30))\n",
    "sns.histplot(data=df, x=\"gender\", ax=axs[0, 0], hue = \"Churn\", multiple = \"dodge\")\n",
    "sns.histplot(data=df, x=\"Partner\",  ax=axs[0, 1],hue = \"Churn\", multiple = \"dodge\")\n",
    "sns.histplot(data=df, x=\"Dependents\", ax=axs[1, 0],hue = \"Churn\", multiple = \"dodge\")\n",
    "sns.histplot(data=df, x=\"PhoneService\", ax=axs[1, 1],hue = \"Churn\", multiple = \"dodge\")\n",
    "sns.histplot(data=df, x=\"MultipleLines\", ax=axs[2, 0], hue = \"Churn\", multiple = \"dodge\")\n",
    "sns.histplot(data=df, x=\"InternetService\",  ax=axs[2, 1],hue = \"Churn\", multiple = \"dodge\")\n",
    "sns.histplot(data=df, x=\"OnlineSecurity\", ax=axs[3, 0],hue = \"Churn\", multiple = \"dodge\")\n",
    "sns.histplot(data=df, x=\"OnlineBackup\", ax=axs[3, 1],hue = \"Churn\", multiple = \"dodge\")\n",
    "sns.histplot(data=df, x=\"DeviceProtection\", ax=axs[4, 0], hue = \"Churn\", multiple = \"dodge\")\n",
    "sns.histplot(data=df, x=\"TechSupport\",  ax=axs[4, 1],hue = \"Churn\", multiple = \"dodge\")\n",
    "sns.histplot(data=df, x=\"StreamingTV\", ax=axs[5, 0],hue = \"Churn\", multiple = \"dodge\")\n",
    "sns.histplot(data=df, x=\"StreamingMovies\", ax=axs[5, 1],hue = \"Churn\", multiple = \"dodge\")\n",
    "sns.histplot(data=df, x=\"Contract\", ax=axs[6, 0], hue = \"Churn\", multiple = \"dodge\")\n",
    "sns.histplot(data=df, x=\"PaperlessBilling\",  ax=axs[6, 1],hue = \"Churn\", multiple = \"dodge\")\n",
    "sns.histplot(data=df, x=\"PaymentMethod\",  ax=axs[7, 0],hue = \"Churn\", multiple = \"dodge\")\n",
    "histplot.set_title('Histogramas', fontdict={'fontsize':18}, pad=12);\n",
    "plt.show()"
   ]
  },
  {
   "cell_type": "markdown",
   "id": "673a9f16",
   "metadata": {},
   "source": [
    "#### Conclusões"
   ]
  },
  {
   "cell_type": "markdown",
   "id": "5421cf32",
   "metadata": {},
   "source": [
    "**1) gender:**  Não há diferença praticamente entre os genêros para a rotatividade de clientes.\\\n",
    "**2) Partner:** Pessoas que não tem parceiro tem chances bem maiores de rotatividade.\\\n",
    "**3) Dependents:** Pessoas que não tem dependentes tem chances bem maiores de rotatividade.\\\n",
    "**4) PhoneService:** As pessoas que assinam tem chance levemente maior de rotatividade, mas é praticamente irrelevante.\\\n",
    "**5) MultipleLines:** A proporção de pessoas que assinam múltiplas linhas telefônicas é um pouco maior.\\\n",
    "**6) InternetService:** As pessoas que assinam internet de fibra ótica, tem chance muito maior de rotatividade.\\\n",
    "**7) OnlineSecurity:** As pessoas que não assinam o pacote de segurança de internet extra tem chance bem maior de rotatividade.\\\n",
    "**8) OnlineBackup:** As pessoas que não assinam o serviço de backup online tem chance maior de rotatividade.\\\n",
    "**9) DeviceProtection:** As pessoas que não assinam o pacote extra de segurança do equipamento tem chance maior de rotatividade.\\\n",
    "**10) TechSupport:** As pessoas que não assinam assistência técnica extra tem chances bem maiores de rotatividade.\\\n",
    "**11) StreamingTV:** As pessoas que assinam a internet para consumir programas de TV em serviços de streaming tem chance maior de rotatividade.\\\n",
    "**12) StreamingMovies:** As pessoas que assinam a internet para consumir filmes em serviços de streaming tem chance maior de rotatividade. Este atributo tem as mesmas chances e praticamente trás a mesma informação que **StreamingTV**, então será excluído.\\\n",
    "**13) Contract:** As pessoas que assinam o modelo de contrato mensal tem chances bem maiores de rotatividade.\\\n",
    "**14) PaperlessBilling:** As pessoas que pagam as contas de forma virtual tem chance bem maior de rotatividade.\\\n",
    "**15) PaymentMethod:** As pessoas que optam por pagar as contas por cheque eletrônico tem chances bem maiores de rotatividade."
   ]
  },
  {
   "cell_type": "markdown",
   "id": "aae64557",
   "metadata": {},
   "source": [
    "Os atributos **gender** e **PhoneService** serão excluídos da análise porque não trazem informações extras relevantes para a variável a ser prevista."
   ]
  },
  {
   "cell_type": "markdown",
   "id": "fc57bd75",
   "metadata": {},
   "source": [
    "# 3 - Treinamento dos modelos de aprendizagem de máquina"
   ]
  },
  {
   "cell_type": "markdown",
   "id": "1dc6ff3e",
   "metadata": {},
   "source": [
    "## 3.1 - Preparação do conjunto de dados"
   ]
  },
  {
   "cell_type": "code",
   "execution_count": 90,
   "id": "8fa4fcfa",
   "metadata": {},
   "outputs": [
    {
     "data": {
      "text/html": [
       "<div>\n",
       "<style scoped>\n",
       "    .dataframe tbody tr th:only-of-type {\n",
       "        vertical-align: middle;\n",
       "    }\n",
       "\n",
       "    .dataframe tbody tr th {\n",
       "        vertical-align: top;\n",
       "    }\n",
       "\n",
       "    .dataframe thead th {\n",
       "        text-align: right;\n",
       "    }\n",
       "</style>\n",
       "<table border=\"1\" class=\"dataframe\">\n",
       "  <thead>\n",
       "    <tr style=\"text-align: right;\">\n",
       "      <th></th>\n",
       "      <th>gender</th>\n",
       "      <th>SeniorCitizen</th>\n",
       "      <th>Partner</th>\n",
       "      <th>Dependents</th>\n",
       "      <th>tenure</th>\n",
       "      <th>PhoneService</th>\n",
       "      <th>MultipleLines</th>\n",
       "      <th>InternetService</th>\n",
       "      <th>OnlineSecurity</th>\n",
       "      <th>OnlineBackup</th>\n",
       "      <th>DeviceProtection</th>\n",
       "      <th>TechSupport</th>\n",
       "      <th>StreamingTV</th>\n",
       "      <th>StreamingMovies</th>\n",
       "      <th>Contract</th>\n",
       "      <th>PaperlessBilling</th>\n",
       "      <th>PaymentMethod</th>\n",
       "      <th>MonthlyCharges</th>\n",
       "      <th>TotalCharges</th>\n",
       "      <th>Churn</th>\n",
       "    </tr>\n",
       "  </thead>\n",
       "  <tbody>\n",
       "    <tr>\n",
       "      <th>0</th>\n",
       "      <td>Female</td>\n",
       "      <td>0</td>\n",
       "      <td>Yes</td>\n",
       "      <td>No</td>\n",
       "      <td>1</td>\n",
       "      <td>No</td>\n",
       "      <td>No</td>\n",
       "      <td>DSL</td>\n",
       "      <td>No</td>\n",
       "      <td>Yes</td>\n",
       "      <td>No</td>\n",
       "      <td>No</td>\n",
       "      <td>No</td>\n",
       "      <td>No</td>\n",
       "      <td>Month-to-month</td>\n",
       "      <td>Yes</td>\n",
       "      <td>Electronic check</td>\n",
       "      <td>29.85</td>\n",
       "      <td>29.85</td>\n",
       "      <td>0</td>\n",
       "    </tr>\n",
       "    <tr>\n",
       "      <th>1</th>\n",
       "      <td>Male</td>\n",
       "      <td>0</td>\n",
       "      <td>No</td>\n",
       "      <td>No</td>\n",
       "      <td>34</td>\n",
       "      <td>Yes</td>\n",
       "      <td>No</td>\n",
       "      <td>DSL</td>\n",
       "      <td>Yes</td>\n",
       "      <td>No</td>\n",
       "      <td>Yes</td>\n",
       "      <td>No</td>\n",
       "      <td>No</td>\n",
       "      <td>No</td>\n",
       "      <td>One year</td>\n",
       "      <td>No</td>\n",
       "      <td>Mailed check</td>\n",
       "      <td>56.95</td>\n",
       "      <td>1889.50</td>\n",
       "      <td>0</td>\n",
       "    </tr>\n",
       "    <tr>\n",
       "      <th>2</th>\n",
       "      <td>Male</td>\n",
       "      <td>0</td>\n",
       "      <td>No</td>\n",
       "      <td>No</td>\n",
       "      <td>2</td>\n",
       "      <td>Yes</td>\n",
       "      <td>No</td>\n",
       "      <td>DSL</td>\n",
       "      <td>Yes</td>\n",
       "      <td>Yes</td>\n",
       "      <td>No</td>\n",
       "      <td>No</td>\n",
       "      <td>No</td>\n",
       "      <td>No</td>\n",
       "      <td>Month-to-month</td>\n",
       "      <td>Yes</td>\n",
       "      <td>Mailed check</td>\n",
       "      <td>53.85</td>\n",
       "      <td>108.15</td>\n",
       "      <td>1</td>\n",
       "    </tr>\n",
       "    <tr>\n",
       "      <th>3</th>\n",
       "      <td>Male</td>\n",
       "      <td>0</td>\n",
       "      <td>No</td>\n",
       "      <td>No</td>\n",
       "      <td>45</td>\n",
       "      <td>No</td>\n",
       "      <td>No</td>\n",
       "      <td>DSL</td>\n",
       "      <td>Yes</td>\n",
       "      <td>No</td>\n",
       "      <td>Yes</td>\n",
       "      <td>Yes</td>\n",
       "      <td>No</td>\n",
       "      <td>No</td>\n",
       "      <td>One year</td>\n",
       "      <td>No</td>\n",
       "      <td>Bank transfer (automatic)</td>\n",
       "      <td>42.30</td>\n",
       "      <td>1840.75</td>\n",
       "      <td>0</td>\n",
       "    </tr>\n",
       "    <tr>\n",
       "      <th>4</th>\n",
       "      <td>Female</td>\n",
       "      <td>0</td>\n",
       "      <td>No</td>\n",
       "      <td>No</td>\n",
       "      <td>2</td>\n",
       "      <td>Yes</td>\n",
       "      <td>No</td>\n",
       "      <td>Fiber optic</td>\n",
       "      <td>No</td>\n",
       "      <td>No</td>\n",
       "      <td>No</td>\n",
       "      <td>No</td>\n",
       "      <td>No</td>\n",
       "      <td>No</td>\n",
       "      <td>Month-to-month</td>\n",
       "      <td>Yes</td>\n",
       "      <td>Electronic check</td>\n",
       "      <td>70.70</td>\n",
       "      <td>151.65</td>\n",
       "      <td>1</td>\n",
       "    </tr>\n",
       "    <tr>\n",
       "      <th>5</th>\n",
       "      <td>Female</td>\n",
       "      <td>0</td>\n",
       "      <td>No</td>\n",
       "      <td>No</td>\n",
       "      <td>8</td>\n",
       "      <td>Yes</td>\n",
       "      <td>Yes</td>\n",
       "      <td>Fiber optic</td>\n",
       "      <td>No</td>\n",
       "      <td>No</td>\n",
       "      <td>Yes</td>\n",
       "      <td>No</td>\n",
       "      <td>Yes</td>\n",
       "      <td>Yes</td>\n",
       "      <td>Month-to-month</td>\n",
       "      <td>Yes</td>\n",
       "      <td>Electronic check</td>\n",
       "      <td>99.65</td>\n",
       "      <td>820.50</td>\n",
       "      <td>1</td>\n",
       "    </tr>\n",
       "    <tr>\n",
       "      <th>6</th>\n",
       "      <td>Male</td>\n",
       "      <td>0</td>\n",
       "      <td>No</td>\n",
       "      <td>Yes</td>\n",
       "      <td>22</td>\n",
       "      <td>Yes</td>\n",
       "      <td>Yes</td>\n",
       "      <td>Fiber optic</td>\n",
       "      <td>No</td>\n",
       "      <td>Yes</td>\n",
       "      <td>No</td>\n",
       "      <td>No</td>\n",
       "      <td>Yes</td>\n",
       "      <td>No</td>\n",
       "      <td>Month-to-month</td>\n",
       "      <td>Yes</td>\n",
       "      <td>Credit card (automatic)</td>\n",
       "      <td>89.10</td>\n",
       "      <td>1949.40</td>\n",
       "      <td>0</td>\n",
       "    </tr>\n",
       "    <tr>\n",
       "      <th>7</th>\n",
       "      <td>Female</td>\n",
       "      <td>0</td>\n",
       "      <td>No</td>\n",
       "      <td>No</td>\n",
       "      <td>10</td>\n",
       "      <td>No</td>\n",
       "      <td>No</td>\n",
       "      <td>DSL</td>\n",
       "      <td>Yes</td>\n",
       "      <td>No</td>\n",
       "      <td>No</td>\n",
       "      <td>No</td>\n",
       "      <td>No</td>\n",
       "      <td>No</td>\n",
       "      <td>Month-to-month</td>\n",
       "      <td>No</td>\n",
       "      <td>Mailed check</td>\n",
       "      <td>29.75</td>\n",
       "      <td>301.90</td>\n",
       "      <td>0</td>\n",
       "    </tr>\n",
       "    <tr>\n",
       "      <th>8</th>\n",
       "      <td>Female</td>\n",
       "      <td>0</td>\n",
       "      <td>Yes</td>\n",
       "      <td>No</td>\n",
       "      <td>28</td>\n",
       "      <td>Yes</td>\n",
       "      <td>Yes</td>\n",
       "      <td>Fiber optic</td>\n",
       "      <td>No</td>\n",
       "      <td>No</td>\n",
       "      <td>Yes</td>\n",
       "      <td>Yes</td>\n",
       "      <td>Yes</td>\n",
       "      <td>Yes</td>\n",
       "      <td>Month-to-month</td>\n",
       "      <td>Yes</td>\n",
       "      <td>Electronic check</td>\n",
       "      <td>104.80</td>\n",
       "      <td>3046.05</td>\n",
       "      <td>1</td>\n",
       "    </tr>\n",
       "    <tr>\n",
       "      <th>9</th>\n",
       "      <td>Male</td>\n",
       "      <td>0</td>\n",
       "      <td>No</td>\n",
       "      <td>Yes</td>\n",
       "      <td>62</td>\n",
       "      <td>Yes</td>\n",
       "      <td>No</td>\n",
       "      <td>DSL</td>\n",
       "      <td>Yes</td>\n",
       "      <td>Yes</td>\n",
       "      <td>No</td>\n",
       "      <td>No</td>\n",
       "      <td>No</td>\n",
       "      <td>No</td>\n",
       "      <td>One year</td>\n",
       "      <td>No</td>\n",
       "      <td>Bank transfer (automatic)</td>\n",
       "      <td>56.15</td>\n",
       "      <td>3487.95</td>\n",
       "      <td>0</td>\n",
       "    </tr>\n",
       "  </tbody>\n",
       "</table>\n",
       "</div>"
      ],
      "text/plain": [
       "   gender  SeniorCitizen Partner Dependents  tenure PhoneService  \\\n",
       "0  Female              0     Yes         No       1           No   \n",
       "1    Male              0      No         No      34          Yes   \n",
       "2    Male              0      No         No       2          Yes   \n",
       "3    Male              0      No         No      45           No   \n",
       "4  Female              0      No         No       2          Yes   \n",
       "5  Female              0      No         No       8          Yes   \n",
       "6    Male              0      No        Yes      22          Yes   \n",
       "7  Female              0      No         No      10           No   \n",
       "8  Female              0     Yes         No      28          Yes   \n",
       "9    Male              0      No        Yes      62          Yes   \n",
       "\n",
       "  MultipleLines InternetService OnlineSecurity OnlineBackup DeviceProtection  \\\n",
       "0            No             DSL             No          Yes               No   \n",
       "1            No             DSL            Yes           No              Yes   \n",
       "2            No             DSL            Yes          Yes               No   \n",
       "3            No             DSL            Yes           No              Yes   \n",
       "4            No     Fiber optic             No           No               No   \n",
       "5           Yes     Fiber optic             No           No              Yes   \n",
       "6           Yes     Fiber optic             No          Yes               No   \n",
       "7            No             DSL            Yes           No               No   \n",
       "8           Yes     Fiber optic             No           No              Yes   \n",
       "9            No             DSL            Yes          Yes               No   \n",
       "\n",
       "  TechSupport StreamingTV StreamingMovies        Contract PaperlessBilling  \\\n",
       "0          No          No              No  Month-to-month              Yes   \n",
       "1          No          No              No        One year               No   \n",
       "2          No          No              No  Month-to-month              Yes   \n",
       "3         Yes          No              No        One year               No   \n",
       "4          No          No              No  Month-to-month              Yes   \n",
       "5          No         Yes             Yes  Month-to-month              Yes   \n",
       "6          No         Yes              No  Month-to-month              Yes   \n",
       "7          No          No              No  Month-to-month               No   \n",
       "8         Yes         Yes             Yes  Month-to-month              Yes   \n",
       "9          No          No              No        One year               No   \n",
       "\n",
       "               PaymentMethod  MonthlyCharges  TotalCharges  Churn  \n",
       "0           Electronic check           29.85         29.85      0  \n",
       "1               Mailed check           56.95       1889.50      0  \n",
       "2               Mailed check           53.85        108.15      1  \n",
       "3  Bank transfer (automatic)           42.30       1840.75      0  \n",
       "4           Electronic check           70.70        151.65      1  \n",
       "5           Electronic check           99.65        820.50      1  \n",
       "6    Credit card (automatic)           89.10       1949.40      0  \n",
       "7               Mailed check           29.75        301.90      0  \n",
       "8           Electronic check          104.80       3046.05      1  \n",
       "9  Bank transfer (automatic)           56.15       3487.95      0  "
      ]
     },
     "execution_count": 90,
     "metadata": {},
     "output_type": "execute_result"
    }
   ],
   "source": [
    "df.head(10)"
   ]
  },
  {
   "cell_type": "markdown",
   "id": "4568bcb1",
   "metadata": {},
   "source": [
    "Os atributos que possuem o valor *No internet service* serão substituídos por *No*. "
   ]
  },
  {
   "cell_type": "code",
   "execution_count": 91,
   "id": "83e8a9d2",
   "metadata": {},
   "outputs": [],
   "source": [
    "df[['OnlineSecurity','OnlineBackup','DeviceProtection','TechSupport','StreamingTV','StreamingMovies']] = df[['OnlineSecurity','OnlineBackup','DeviceProtection','TechSupport','StreamingTV','StreamingMovies']].replace('No internet service','No')"
   ]
  },
  {
   "cell_type": "markdown",
   "id": "087a6144",
   "metadata": {},
   "source": [
    "A função *get_dummies* transforma os atributos categóricos em numéricos para poder treinar o modelo de aprendizagem de máquina."
   ]
  },
  {
   "cell_type": "code",
   "execution_count": 92,
   "id": "f253ddc6",
   "metadata": {
    "scrolled": false
   },
   "outputs": [
    {
     "data": {
      "text/html": [
       "<div>\n",
       "<style scoped>\n",
       "    .dataframe tbody tr th:only-of-type {\n",
       "        vertical-align: middle;\n",
       "    }\n",
       "\n",
       "    .dataframe tbody tr th {\n",
       "        vertical-align: top;\n",
       "    }\n",
       "\n",
       "    .dataframe thead th {\n",
       "        text-align: right;\n",
       "    }\n",
       "</style>\n",
       "<table border=\"1\" class=\"dataframe\">\n",
       "  <thead>\n",
       "    <tr style=\"text-align: right;\">\n",
       "      <th></th>\n",
       "      <th>SeniorCitizen</th>\n",
       "      <th>tenure</th>\n",
       "      <th>MonthlyCharges</th>\n",
       "      <th>TotalCharges</th>\n",
       "      <th>Churn</th>\n",
       "      <th>gender_Female</th>\n",
       "      <th>gender_Male</th>\n",
       "      <th>Partner_No</th>\n",
       "      <th>Partner_Yes</th>\n",
       "      <th>Dependents_No</th>\n",
       "      <th>...</th>\n",
       "      <th>StreamingMovies_Yes</th>\n",
       "      <th>Contract_Month-to-month</th>\n",
       "      <th>Contract_One year</th>\n",
       "      <th>Contract_Two year</th>\n",
       "      <th>PaperlessBilling_No</th>\n",
       "      <th>PaperlessBilling_Yes</th>\n",
       "      <th>PaymentMethod_Bank transfer (automatic)</th>\n",
       "      <th>PaymentMethod_Credit card (automatic)</th>\n",
       "      <th>PaymentMethod_Electronic check</th>\n",
       "      <th>PaymentMethod_Mailed check</th>\n",
       "    </tr>\n",
       "  </thead>\n",
       "  <tbody>\n",
       "    <tr>\n",
       "      <th>0</th>\n",
       "      <td>0</td>\n",
       "      <td>1</td>\n",
       "      <td>29.85</td>\n",
       "      <td>29.85</td>\n",
       "      <td>0</td>\n",
       "      <td>1</td>\n",
       "      <td>0</td>\n",
       "      <td>0</td>\n",
       "      <td>1</td>\n",
       "      <td>1</td>\n",
       "      <td>...</td>\n",
       "      <td>0</td>\n",
       "      <td>1</td>\n",
       "      <td>0</td>\n",
       "      <td>0</td>\n",
       "      <td>0</td>\n",
       "      <td>1</td>\n",
       "      <td>0</td>\n",
       "      <td>0</td>\n",
       "      <td>1</td>\n",
       "      <td>0</td>\n",
       "    </tr>\n",
       "    <tr>\n",
       "      <th>1</th>\n",
       "      <td>0</td>\n",
       "      <td>34</td>\n",
       "      <td>56.95</td>\n",
       "      <td>1889.50</td>\n",
       "      <td>0</td>\n",
       "      <td>0</td>\n",
       "      <td>1</td>\n",
       "      <td>1</td>\n",
       "      <td>0</td>\n",
       "      <td>1</td>\n",
       "      <td>...</td>\n",
       "      <td>0</td>\n",
       "      <td>0</td>\n",
       "      <td>1</td>\n",
       "      <td>0</td>\n",
       "      <td>1</td>\n",
       "      <td>0</td>\n",
       "      <td>0</td>\n",
       "      <td>0</td>\n",
       "      <td>0</td>\n",
       "      <td>1</td>\n",
       "    </tr>\n",
       "    <tr>\n",
       "      <th>2</th>\n",
       "      <td>0</td>\n",
       "      <td>2</td>\n",
       "      <td>53.85</td>\n",
       "      <td>108.15</td>\n",
       "      <td>1</td>\n",
       "      <td>0</td>\n",
       "      <td>1</td>\n",
       "      <td>1</td>\n",
       "      <td>0</td>\n",
       "      <td>1</td>\n",
       "      <td>...</td>\n",
       "      <td>0</td>\n",
       "      <td>1</td>\n",
       "      <td>0</td>\n",
       "      <td>0</td>\n",
       "      <td>0</td>\n",
       "      <td>1</td>\n",
       "      <td>0</td>\n",
       "      <td>0</td>\n",
       "      <td>0</td>\n",
       "      <td>1</td>\n",
       "    </tr>\n",
       "    <tr>\n",
       "      <th>3</th>\n",
       "      <td>0</td>\n",
       "      <td>45</td>\n",
       "      <td>42.30</td>\n",
       "      <td>1840.75</td>\n",
       "      <td>0</td>\n",
       "      <td>0</td>\n",
       "      <td>1</td>\n",
       "      <td>1</td>\n",
       "      <td>0</td>\n",
       "      <td>1</td>\n",
       "      <td>...</td>\n",
       "      <td>0</td>\n",
       "      <td>0</td>\n",
       "      <td>1</td>\n",
       "      <td>0</td>\n",
       "      <td>1</td>\n",
       "      <td>0</td>\n",
       "      <td>1</td>\n",
       "      <td>0</td>\n",
       "      <td>0</td>\n",
       "      <td>0</td>\n",
       "    </tr>\n",
       "    <tr>\n",
       "      <th>4</th>\n",
       "      <td>0</td>\n",
       "      <td>2</td>\n",
       "      <td>70.70</td>\n",
       "      <td>151.65</td>\n",
       "      <td>1</td>\n",
       "      <td>1</td>\n",
       "      <td>0</td>\n",
       "      <td>1</td>\n",
       "      <td>0</td>\n",
       "      <td>1</td>\n",
       "      <td>...</td>\n",
       "      <td>0</td>\n",
       "      <td>1</td>\n",
       "      <td>0</td>\n",
       "      <td>0</td>\n",
       "      <td>0</td>\n",
       "      <td>1</td>\n",
       "      <td>0</td>\n",
       "      <td>0</td>\n",
       "      <td>1</td>\n",
       "      <td>0</td>\n",
       "    </tr>\n",
       "  </tbody>\n",
       "</table>\n",
       "<p>5 rows × 39 columns</p>\n",
       "</div>"
      ],
      "text/plain": [
       "   SeniorCitizen  tenure  MonthlyCharges  TotalCharges  Churn  gender_Female  \\\n",
       "0              0       1           29.85         29.85      0              1   \n",
       "1              0      34           56.95       1889.50      0              0   \n",
       "2              0       2           53.85        108.15      1              0   \n",
       "3              0      45           42.30       1840.75      0              0   \n",
       "4              0       2           70.70        151.65      1              1   \n",
       "\n",
       "   gender_Male  Partner_No  Partner_Yes  Dependents_No  ...  \\\n",
       "0            0           0            1              1  ...   \n",
       "1            1           1            0              1  ...   \n",
       "2            1           1            0              1  ...   \n",
       "3            1           1            0              1  ...   \n",
       "4            0           1            0              1  ...   \n",
       "\n",
       "   StreamingMovies_Yes  Contract_Month-to-month  Contract_One year  \\\n",
       "0                    0                        1                  0   \n",
       "1                    0                        0                  1   \n",
       "2                    0                        1                  0   \n",
       "3                    0                        0                  1   \n",
       "4                    0                        1                  0   \n",
       "\n",
       "   Contract_Two year  PaperlessBilling_No  PaperlessBilling_Yes  \\\n",
       "0                  0                    0                     1   \n",
       "1                  0                    1                     0   \n",
       "2                  0                    0                     1   \n",
       "3                  0                    1                     0   \n",
       "4                  0                    0                     1   \n",
       "\n",
       "   PaymentMethod_Bank transfer (automatic)  \\\n",
       "0                                        0   \n",
       "1                                        0   \n",
       "2                                        0   \n",
       "3                                        1   \n",
       "4                                        0   \n",
       "\n",
       "   PaymentMethod_Credit card (automatic)  PaymentMethod_Electronic check  \\\n",
       "0                                      0                               1   \n",
       "1                                      0                               0   \n",
       "2                                      0                               0   \n",
       "3                                      0                               0   \n",
       "4                                      0                               1   \n",
       "\n",
       "   PaymentMethod_Mailed check  \n",
       "0                           0  \n",
       "1                           1  \n",
       "2                           1  \n",
       "3                           0  \n",
       "4                           0  \n",
       "\n",
       "[5 rows x 39 columns]"
      ]
     },
     "execution_count": 92,
     "metadata": {},
     "output_type": "execute_result"
    }
   ],
   "source": [
    "df = pd.get_dummies(df)\n",
    "df.head(5)"
   ]
  },
  {
   "cell_type": "code",
   "execution_count": 102,
   "id": "94134e15",
   "metadata": {},
   "outputs": [
    {
     "name": "stdout",
     "output_type": "stream",
     "text": [
      "SeniorCitizen :  [0 1]\n",
      "tenure :  [ 1 34  2 45  8 22 10 28 62 13 16 58 49 25 69 52 71 21 12 30 47 72 17 27\n",
      "  5 46 11 70 63 43 15 60 18 66  9  3 31 50 64 56  7 42 35 48 29 65 38 68\n",
      " 32 55 37 36 41  6  4 33 67 23 57 61 14 20 53 40 59 24 44 19 54 51 26  0\n",
      " 39]\n",
      "MonthlyCharges :  [29.85 56.95 53.85 ... 63.1  44.2  78.7 ]\n",
      "TotalCharges :  [  29.85 1889.5   108.15 ...  346.45  306.6  6844.5 ]\n",
      "Churn :  [0 1]\n",
      "gender_Female :  [1 0]\n",
      "gender_Male :  [0 1]\n",
      "Partner_No :  [0 1]\n",
      "Partner_Yes :  [1 0]\n",
      "Dependents_No :  [1 0]\n",
      "Dependents_Yes :  [0 1]\n",
      "PhoneService_No :  [1 0]\n",
      "PhoneService_Yes :  [0 1]\n",
      "MultipleLines_No :  [1 0]\n",
      "MultipleLines_Yes :  [0 1]\n",
      "InternetService_DSL :  [1 0]\n",
      "InternetService_Fiber optic :  [0 1]\n",
      "InternetService_No :  [0 1]\n",
      "OnlineSecurity_No :  [1 0]\n",
      "OnlineSecurity_Yes :  [0 1]\n",
      "OnlineBackup_No :  [0 1]\n",
      "OnlineBackup_Yes :  [1 0]\n",
      "DeviceProtection_No :  [1 0]\n",
      "DeviceProtection_Yes :  [0 1]\n",
      "TechSupport_No :  [1 0]\n",
      "TechSupport_Yes :  [0 1]\n",
      "StreamingTV_No :  [1 0]\n",
      "StreamingTV_Yes :  [0 1]\n",
      "StreamingMovies_No :  [1 0]\n",
      "StreamingMovies_Yes :  [0 1]\n",
      "Contract_Month-to-month :  [1 0]\n",
      "Contract_One year :  [0 1]\n",
      "Contract_Two year :  [0 1]\n",
      "PaperlessBilling_No :  [0 1]\n",
      "PaperlessBilling_Yes :  [1 0]\n",
      "PaymentMethod_Bank transfer (automatic) :  [0 1]\n",
      "PaymentMethod_Credit card (automatic) :  [0 1]\n",
      "PaymentMethod_Electronic check :  [1 0]\n",
      "PaymentMethod_Mailed check :  [0 1]\n"
     ]
    }
   ],
   "source": [
    "for column in df.columns:\n",
    "    print(column,\": \",df[column].unique())"
   ]
  },
  {
   "cell_type": "code",
   "execution_count": 103,
   "id": "e8fc7995",
   "metadata": {},
   "outputs": [
    {
     "name": "stdout",
     "output_type": "stream",
     "text": [
      "<class 'pandas.core.frame.DataFrame'>\n",
      "RangeIndex: 7043 entries, 0 to 7042\n",
      "Data columns (total 39 columns):\n",
      " #   Column                                   Non-Null Count  Dtype  \n",
      "---  ------                                   --------------  -----  \n",
      " 0   SeniorCitizen                            7043 non-null   int64  \n",
      " 1   tenure                                   7043 non-null   int64  \n",
      " 2   MonthlyCharges                           7043 non-null   float64\n",
      " 3   TotalCharges                             7032 non-null   float64\n",
      " 4   Churn                                    7043 non-null   int32  \n",
      " 5   gender_Female                            7043 non-null   uint8  \n",
      " 6   gender_Male                              7043 non-null   uint8  \n",
      " 7   Partner_No                               7043 non-null   uint8  \n",
      " 8   Partner_Yes                              7043 non-null   uint8  \n",
      " 9   Dependents_No                            7043 non-null   uint8  \n",
      " 10  Dependents_Yes                           7043 non-null   uint8  \n",
      " 11  PhoneService_No                          7043 non-null   uint8  \n",
      " 12  PhoneService_Yes                         7043 non-null   uint8  \n",
      " 13  MultipleLines_No                         7043 non-null   uint8  \n",
      " 14  MultipleLines_Yes                        7043 non-null   uint8  \n",
      " 15  InternetService_DSL                      7043 non-null   uint8  \n",
      " 16  InternetService_Fiber optic              7043 non-null   uint8  \n",
      " 17  InternetService_No                       7043 non-null   uint8  \n",
      " 18  OnlineSecurity_No                        7043 non-null   uint8  \n",
      " 19  OnlineSecurity_Yes                       7043 non-null   uint8  \n",
      " 20  OnlineBackup_No                          7043 non-null   uint8  \n",
      " 21  OnlineBackup_Yes                         7043 non-null   uint8  \n",
      " 22  DeviceProtection_No                      7043 non-null   uint8  \n",
      " 23  DeviceProtection_Yes                     7043 non-null   uint8  \n",
      " 24  TechSupport_No                           7043 non-null   uint8  \n",
      " 25  TechSupport_Yes                          7043 non-null   uint8  \n",
      " 26  StreamingTV_No                           7043 non-null   uint8  \n",
      " 27  StreamingTV_Yes                          7043 non-null   uint8  \n",
      " 28  StreamingMovies_No                       7043 non-null   uint8  \n",
      " 29  StreamingMovies_Yes                      7043 non-null   uint8  \n",
      " 30  Contract_Month-to-month                  7043 non-null   uint8  \n",
      " 31  Contract_One year                        7043 non-null   uint8  \n",
      " 32  Contract_Two year                        7043 non-null   uint8  \n",
      " 33  PaperlessBilling_No                      7043 non-null   uint8  \n",
      " 34  PaperlessBilling_Yes                     7043 non-null   uint8  \n",
      " 35  PaymentMethod_Bank transfer (automatic)  7043 non-null   uint8  \n",
      " 36  PaymentMethod_Credit card (automatic)    7043 non-null   uint8  \n",
      " 37  PaymentMethod_Electronic check           7043 non-null   uint8  \n",
      " 38  PaymentMethod_Mailed check               7043 non-null   uint8  \n",
      "dtypes: float64(2), int32(1), int64(2), uint8(34)\n",
      "memory usage: 481.6 KB\n"
     ]
    }
   ],
   "source": [
    "df.info()"
   ]
  },
  {
   "cell_type": "markdown",
   "id": "33016055",
   "metadata": {},
   "source": [
    "Agora deve-se separar a variável alvo e os outros atributos e dividir o conjunto de dados em treinamento e teste."
   ]
  },
  {
   "cell_type": "code",
   "execution_count": 104,
   "id": "e54571d5",
   "metadata": {},
   "outputs": [],
   "source": [
    "X= df.drop('Churn', axis=1)\n",
    "y= df['Churn']"
   ]
  },
  {
   "cell_type": "code",
   "execution_count": 105,
   "id": "ab3fd42c",
   "metadata": {},
   "outputs": [],
   "source": [
    "X= df.drop('Churn', axis=1)\n",
    "y= df['Churn']\n",
    "df_x_treinamento, df_x_teste, df_y_treinamento, df_y_teste = train_test_split(X, y, test_size=0.3, random_state=1)"
   ]
  },
  {
   "cell_type": "markdown",
   "id": "fa81b36e",
   "metadata": {},
   "source": [
    "O algoritmo que será usado para treinar é o LightGBM classifier, já que é bem leve, principalmente em comparação a XGBoost, por ser um algoritmo de boosting, que costuma performar bem com conjuntos de dados desbalanceados e por ter o hiperparâmetro *scale_pos_weight* que atribui pesos, privilegiando a classe com menor proporção da variável alvo."
   ]
  },
  {
   "cell_type": "markdown",
   "id": "c328436e",
   "metadata": {},
   "source": [
    "## 3.2 - Treinando os modelos"
   ]
  },
  {
   "cell_type": "markdown",
   "id": "ebdc1875",
   "metadata": {},
   "source": [
    "### 3.2.1 - Modelo sem hiperparametros ajustados"
   ]
  },
  {
   "cell_type": "code",
   "execution_count": 111,
   "id": "247eb27b",
   "metadata": {},
   "outputs": [],
   "source": [
    "lgbm = LGBMClassifier()\n",
    "lgbm.fit(df_x_treinamento, df_y_treinamento)\n",
    "previsao= lgbm.predict(df_x_teste)"
   ]
  },
  {
   "cell_type": "code",
   "execution_count": 112,
   "id": "4efbf13c",
   "metadata": {},
   "outputs": [],
   "source": [
    "accuracy= []\n",
    "recall =[]\n",
    "roc_auc= []\n",
    "precision = []\n",
    "accuracy.append(round(accuracy_score(df_y_teste, previsao),4))\n",
    "recall.append(round(recall_score(df_y_teste, previsao),4))\n",
    "roc_auc.append(round(roc_auc_score(df_y_teste, previsao),4))\n",
    "precision.append(round(precision_score(df_y_teste, previsao),4))"
   ]
  },
  {
   "cell_type": "code",
   "execution_count": 114,
   "id": "40327357",
   "metadata": {},
   "outputs": [
    {
     "data": {
      "text/html": [
       "<div>\n",
       "<style scoped>\n",
       "    .dataframe tbody tr th:only-of-type {\n",
       "        vertical-align: middle;\n",
       "    }\n",
       "\n",
       "    .dataframe tbody tr th {\n",
       "        vertical-align: top;\n",
       "    }\n",
       "\n",
       "    .dataframe thead th {\n",
       "        text-align: right;\n",
       "    }\n",
       "</style>\n",
       "<table border=\"1\" class=\"dataframe\">\n",
       "  <thead>\n",
       "    <tr style=\"text-align: right;\">\n",
       "      <th></th>\n",
       "      <th>Acurácia</th>\n",
       "      <th>Recall</th>\n",
       "      <th>Roc_Auc</th>\n",
       "      <th>Precisão</th>\n",
       "    </tr>\n",
       "  </thead>\n",
       "  <tbody>\n",
       "    <tr>\n",
       "      <th>LightGBM_padrão</th>\n",
       "      <td>0.8045</td>\n",
       "      <td>0.5568</td>\n",
       "      <td>0.7219</td>\n",
       "      <td>0.6216</td>\n",
       "    </tr>\n",
       "  </tbody>\n",
       "</table>\n",
       "</div>"
      ],
      "text/plain": [
       "                 Acurácia  Recall  Roc_Auc  Precisão\n",
       "LightGBM_padrão    0.8045  0.5568   0.7219    0.6216"
      ]
     },
     "execution_count": 114,
     "metadata": {},
     "output_type": "execute_result"
    }
   ],
   "source": [
    "model_names = ['LightGBM_padrão']\n",
    "result_dfp = pd.DataFrame({'Acurácia':accuracy,'Recall':recall, 'Roc_Auc':roc_auc, 'Precisão':precision}, index=model_names)\n",
    "result_dfp"
   ]
  },
  {
   "cell_type": "code",
   "execution_count": 115,
   "id": "765114a2",
   "metadata": {},
   "outputs": [
    {
     "data": {
      "image/png": "[encoded data removed]",
      "text/plain": [
       "<Figure size 576x576 with 2 Axes>"
      ]
     },
     "metadata": {
      "needs_background": "light"
     },
     "output_type": "display_data"
    }
   ],
   "source": [
    "fig, ax = plt.subplots(figsize=(8, 8))\n",
    "plot_confusion_matrix(lgbm, df_x_teste, df_y_teste, cmap=plt.cm.Blues, ax=ax);"
   ]
  },
  {
   "cell_type": "markdown",
   "id": "67d66b7c",
   "metadata": {},
   "source": [
    "### 3.2.2 - Otimizando os hiperparâmetros"
   ]
  },
  {
   "cell_type": "code",
   "execution_count": 156,
   "id": "30133157",
   "metadata": {},
   "outputs": [],
   "source": [
    "parametros= {'num_leaves': [50, 100, 31],\n",
    "             'learning_rate': [0.5, 1.0, 0.1],\n",
    "             'n_estimators': [100, 150, 200],\n",
    "             'min_split_gain': [0, 0.5, 1.0],\n",
    "             'max_depth': [-1, -2, 5, 10],\n",
    "             'min_child_samples': [20, 30, 40]}"
   ]
  },
  {
   "cell_type": "markdown",
   "id": "0380cbcb",
   "metadata": {},
   "source": [
    "Para encontrar os hiperparâmetros mais otimizados, será utilizado o GridSearchCV, que irá testar o modelo com cada um dos hiperparâmetros definidos acima."
   ]
  },
  {
   "cell_type": "code",
   "execution_count": 157,
   "id": "92e9f56a",
   "metadata": {},
   "outputs": [
    {
     "name": "stdout",
     "output_type": "stream",
     "text": [
      "{'learning_rate': 0.1, 'max_depth': 5, 'min_child_samples': 20, 'min_split_gain': 1.0, 'n_estimators': 100, 'num_leaves': 50}\n",
      "0.7977687626774849\n"
     ]
    }
   ],
   "source": [
    "parametros= {'num_leaves': [50, 100, 31],\n",
    "             'learning_rate': [0.5, 1.0, 0.1],\n",
    "             'n_estimators': [100, 150, 200],\n",
    "             'min_split_gain': [0, 0.5, 1.0],\n",
    "             'max_depth': [-1, -2, 5, 10],\n",
    "             'min_child_samples': [20, 30, 40]}\n",
    "grid_search = GridSearchCV(estimator=LGBMClassifier(), param_grid=parametros)\n",
    "grid_search.fit(df_x_treinamento, df_y_treinamento)\n",
    "melhores_parametros = grid_search.best_params_\n",
    "melhor_resultado = grid_search.best_score_\n",
    "print(melhores_parametros)\n",
    "print(melhor_resultado)"
   ]
  },
  {
   "cell_type": "markdown",
   "id": "238da8a9",
   "metadata": {},
   "source": [
    "### 3.2.3 - Modelo com *scale_pos_weight* = 1"
   ]
  },
  {
   "cell_type": "code",
   "execution_count": 116,
   "id": "06a7db49",
   "metadata": {},
   "outputs": [],
   "source": [
    "lgbm = LGBMClassifier(learning_rate= 0.1, max_depth= 5, min_child_samples= 20, min_split_gain= 1.0, n_estimators= 100, num_leaves= 50, scale_pos_weight=1)\n",
    "lgbm.fit(df_x_treinamento, df_y_treinamento)\n",
    "previsao= lgbm.predict(df_x_teste)"
   ]
  },
  {
   "cell_type": "code",
   "execution_count": 117,
   "id": "edbe3301",
   "metadata": {},
   "outputs": [],
   "source": [
    "accuracy= []\n",
    "recall =[]\n",
    "roc_auc= []\n",
    "precision = []\n",
    "accuracy.append(round(accuracy_score(df_y_teste, previsao),4))\n",
    "recall.append(round(recall_score(df_y_teste, previsao),4))\n",
    "roc_auc.append(round(roc_auc_score(df_y_teste, previsao),4))\n",
    "precision.append(round(precision_score(df_y_teste, previsao),4))"
   ]
  },
  {
   "cell_type": "code",
   "execution_count": 118,
   "id": "80e0c741",
   "metadata": {},
   "outputs": [
    {
     "data": {
      "text/html": [
       "<div>\n",
       "<style scoped>\n",
       "    .dataframe tbody tr th:only-of-type {\n",
       "        vertical-align: middle;\n",
       "    }\n",
       "\n",
       "    .dataframe tbody tr th {\n",
       "        vertical-align: top;\n",
       "    }\n",
       "\n",
       "    .dataframe thead th {\n",
       "        text-align: right;\n",
       "    }\n",
       "</style>\n",
       "<table border=\"1\" class=\"dataframe\">\n",
       "  <thead>\n",
       "    <tr style=\"text-align: right;\">\n",
       "      <th></th>\n",
       "      <th>Acurácia</th>\n",
       "      <th>Recall</th>\n",
       "      <th>Roc_Auc</th>\n",
       "      <th>Precisão</th>\n",
       "    </tr>\n",
       "  </thead>\n",
       "  <tbody>\n",
       "    <tr>\n",
       "      <th>LightGBM_1</th>\n",
       "      <td>0.8102</td>\n",
       "      <td>0.5739</td>\n",
       "      <td>0.7314</td>\n",
       "      <td>0.6326</td>\n",
       "    </tr>\n",
       "  </tbody>\n",
       "</table>\n",
       "</div>"
      ],
      "text/plain": [
       "            Acurácia  Recall  Roc_Auc  Precisão\n",
       "LightGBM_1    0.8102  0.5739   0.7314    0.6326"
      ]
     },
     "execution_count": 118,
     "metadata": {},
     "output_type": "execute_result"
    }
   ],
   "source": [
    "model_names = ['LightGBM_1']\n",
    "result_df1 = pd.DataFrame({'Acurácia':accuracy,'Recall':recall, 'Roc_Auc':roc_auc, 'Precisão':precision}, index=model_names)\n",
    "result_df1"
   ]
  },
  {
   "cell_type": "code",
   "execution_count": 119,
   "id": "41dfeaba",
   "metadata": {},
   "outputs": [
    {
     "data": {
      "image/png": "[encoded data removed]",
      "text/plain": [
       "<Figure size 576x576 with 2 Axes>"
      ]
     },
     "metadata": {
      "needs_background": "light"
     },
     "output_type": "display_data"
    }
   ],
   "source": [
    "fig, ax = plt.subplots(figsize=(8, 8))\n",
    "plot_confusion_matrix(lgbm, df_x_teste, df_y_teste, cmap=plt.cm.Blues, ax=ax);"
   ]
  },
  {
   "cell_type": "markdown",
   "id": "7d83215b",
   "metadata": {},
   "source": [
    "### 3.2.3 - Modelo com *scale_pos_weight* = 3"
   ]
  },
  {
   "cell_type": "code",
   "execution_count": 120,
   "id": "2fad0d80",
   "metadata": {},
   "outputs": [],
   "source": [
    "lgbm = LGBMClassifier(learning_rate= 0.1, max_depth= 5, min_child_samples= 20, min_split_gain= 1.0, n_estimators= 100, num_leaves= 50, scale_pos_weight=3)\n",
    "lgbm.fit(df_x_treinamento, df_y_treinamento)\n",
    "previsao= lgbm.predict(df_x_teste)"
   ]
  },
  {
   "cell_type": "code",
   "execution_count": 121,
   "id": "6cbd0849",
   "metadata": {},
   "outputs": [],
   "source": [
    "accuracy= []\n",
    "recall =[]\n",
    "roc_auc= []\n",
    "precision = []\n",
    "accuracy.append(round(accuracy_score(df_y_teste, previsao),4))\n",
    "recall.append(round(recall_score(df_y_teste, previsao),4))\n",
    "roc_auc.append(round(roc_auc_score(df_y_teste, previsao),4))\n",
    "precision.append(round(precision_score(df_y_teste, previsao),4))"
   ]
  },
  {
   "cell_type": "code",
   "execution_count": 122,
   "id": "2e193a61",
   "metadata": {
    "scrolled": true
   },
   "outputs": [
    {
     "data": {
      "text/html": [
       "<div>\n",
       "<style scoped>\n",
       "    .dataframe tbody tr th:only-of-type {\n",
       "        vertical-align: middle;\n",
       "    }\n",
       "\n",
       "    .dataframe tbody tr th {\n",
       "        vertical-align: top;\n",
       "    }\n",
       "\n",
       "    .dataframe thead th {\n",
       "        text-align: right;\n",
       "    }\n",
       "</style>\n",
       "<table border=\"1\" class=\"dataframe\">\n",
       "  <thead>\n",
       "    <tr style=\"text-align: right;\">\n",
       "      <th></th>\n",
       "      <th>Acurácia</th>\n",
       "      <th>Recall</th>\n",
       "      <th>Roc_Auc</th>\n",
       "      <th>Precisão</th>\n",
       "    </tr>\n",
       "  </thead>\n",
       "  <tbody>\n",
       "    <tr>\n",
       "      <th>LightGBM_3</th>\n",
       "      <td>0.7525</td>\n",
       "      <td>0.8258</td>\n",
       "      <td>0.7769</td>\n",
       "      <td>0.5029</td>\n",
       "    </tr>\n",
       "  </tbody>\n",
       "</table>\n",
       "</div>"
      ],
      "text/plain": [
       "            Acurácia  Recall  Roc_Auc  Precisão\n",
       "LightGBM_3    0.7525  0.8258   0.7769    0.5029"
      ]
     },
     "execution_count": 122,
     "metadata": {},
     "output_type": "execute_result"
    }
   ],
   "source": [
    "model_names = ['LightGBM_3']\n",
    "result_df3 = pd.DataFrame({'Acurácia':accuracy,'Recall':recall, 'Roc_Auc':roc_auc, 'Precisão':precision}, index=model_names)\n",
    "result_df3"
   ]
  },
  {
   "cell_type": "code",
   "execution_count": 123,
   "id": "86ea7a79",
   "metadata": {},
   "outputs": [
    {
     "data": {
      "image/png": "[encoded data removed]",
      "text/plain": [
       "<Figure size 576x576 with 2 Axes>"
      ]
     },
     "metadata": {
      "needs_background": "light"
     },
     "output_type": "display_data"
    }
   ],
   "source": [
    "fig, ax = plt.subplots(figsize=(8, 8))\n",
    "plot_confusion_matrix(lgbm, df_x_teste, df_y_teste, cmap=plt.cm.Blues, ax=ax);"
   ]
  },
  {
   "cell_type": "markdown",
   "id": "4069cd84",
   "metadata": {},
   "source": [
    "### 3.2.3 - Modelo com *scale_pos_weight* = 5"
   ]
  },
  {
   "cell_type": "code",
   "execution_count": 124,
   "id": "4221ad84",
   "metadata": {},
   "outputs": [],
   "source": [
    "lgbm = LGBMClassifier(learning_rate= 0.1, max_depth= 5, min_child_samples= 20, min_split_gain= 1.0, n_estimators= 100, num_leaves= 50, scale_pos_weight=5)\n",
    "lgbm.fit(df_x_treinamento, df_y_treinamento)\n",
    "previsao= lgbm.predict(df_x_teste)"
   ]
  },
  {
   "cell_type": "code",
   "execution_count": 125,
   "id": "012044be",
   "metadata": {},
   "outputs": [],
   "source": [
    "accuracy= []\n",
    "recall =[]\n",
    "roc_auc= []\n",
    "precision = []\n",
    "accuracy.append(round(accuracy_score(df_y_teste, previsao),4))\n",
    "recall.append(round(recall_score(df_y_teste, previsao),4))\n",
    "roc_auc.append(round(roc_auc_score(df_y_teste, previsao),4))\n",
    "precision.append(round(precision_score(df_y_teste, previsao),4))"
   ]
  },
  {
   "cell_type": "code",
   "execution_count": 126,
   "id": "947402cd",
   "metadata": {},
   "outputs": [
    {
     "data": {
      "text/html": [
       "<div>\n",
       "<style scoped>\n",
       "    .dataframe tbody tr th:only-of-type {\n",
       "        vertical-align: middle;\n",
       "    }\n",
       "\n",
       "    .dataframe tbody tr th {\n",
       "        vertical-align: top;\n",
       "    }\n",
       "\n",
       "    .dataframe thead th {\n",
       "        text-align: right;\n",
       "    }\n",
       "</style>\n",
       "<table border=\"1\" class=\"dataframe\">\n",
       "  <thead>\n",
       "    <tr style=\"text-align: right;\">\n",
       "      <th></th>\n",
       "      <th>Acurácia</th>\n",
       "      <th>Recall</th>\n",
       "      <th>Roc_Auc</th>\n",
       "      <th>Precisão</th>\n",
       "    </tr>\n",
       "  </thead>\n",
       "  <tbody>\n",
       "    <tr>\n",
       "      <th>LightGBM_5</th>\n",
       "      <td>0.7042</td>\n",
       "      <td>0.8788</td>\n",
       "      <td>0.7624</td>\n",
       "      <td>0.4527</td>\n",
       "    </tr>\n",
       "  </tbody>\n",
       "</table>\n",
       "</div>"
      ],
      "text/plain": [
       "            Acurácia  Recall  Roc_Auc  Precisão\n",
       "LightGBM_5    0.7042  0.8788   0.7624    0.4527"
      ]
     },
     "execution_count": 126,
     "metadata": {},
     "output_type": "execute_result"
    }
   ],
   "source": [
    "model_names = ['LightGBM_5']\n",
    "result_df5 = pd.DataFrame({'Acurácia':accuracy,'Recall':recall, 'Roc_Auc':roc_auc, 'Precisão':precision}, index=model_names)\n",
    "result_df5"
   ]
  },
  {
   "cell_type": "code",
   "execution_count": 127,
   "id": "2e550531",
   "metadata": {},
   "outputs": [
    {
     "data": {
      "image/png": "[encoded data removed]",
      "text/plain": [
       "<Figure size 576x576 with 2 Axes>"
      ]
     },
     "metadata": {
      "needs_background": "light"
     },
     "output_type": "display_data"
    }
   ],
   "source": [
    "fig, ax = plt.subplots(figsize=(8, 8))\n",
    "plot_confusion_matrix(lgbm, df_x_teste, df_y_teste, cmap=plt.cm.Blues, ax=ax);"
   ]
  },
  {
   "cell_type": "markdown",
   "id": "15862f6f",
   "metadata": {},
   "source": [
    "### 3.2.4 - Comparação entre os modelos"
   ]
  },
  {
   "cell_type": "code",
   "execution_count": 128,
   "id": "8c15ce74",
   "metadata": {},
   "outputs": [
    {
     "data": {
      "text/html": [
       "<div>\n",
       "<style scoped>\n",
       "    .dataframe tbody tr th:only-of-type {\n",
       "        vertical-align: middle;\n",
       "    }\n",
       "\n",
       "    .dataframe tbody tr th {\n",
       "        vertical-align: top;\n",
       "    }\n",
       "\n",
       "    .dataframe thead th {\n",
       "        text-align: right;\n",
       "    }\n",
       "</style>\n",
       "<table border=\"1\" class=\"dataframe\">\n",
       "  <thead>\n",
       "    <tr style=\"text-align: right;\">\n",
       "      <th></th>\n",
       "      <th>Acurácia</th>\n",
       "      <th>Recall</th>\n",
       "      <th>Roc_Auc</th>\n",
       "      <th>Precisão</th>\n",
       "    </tr>\n",
       "  </thead>\n",
       "  <tbody>\n",
       "    <tr>\n",
       "      <th>LightGBM_padrão</th>\n",
       "      <td>0.8045</td>\n",
       "      <td>0.5568</td>\n",
       "      <td>0.7219</td>\n",
       "      <td>0.6216</td>\n",
       "    </tr>\n",
       "    <tr>\n",
       "      <th>LightGBM_1</th>\n",
       "      <td>0.8102</td>\n",
       "      <td>0.5739</td>\n",
       "      <td>0.7314</td>\n",
       "      <td>0.6326</td>\n",
       "    </tr>\n",
       "    <tr>\n",
       "      <th>LightGBM_3</th>\n",
       "      <td>0.7525</td>\n",
       "      <td>0.8258</td>\n",
       "      <td>0.7769</td>\n",
       "      <td>0.5029</td>\n",
       "    </tr>\n",
       "    <tr>\n",
       "      <th>LightGBM_5</th>\n",
       "      <td>0.7042</td>\n",
       "      <td>0.8788</td>\n",
       "      <td>0.7624</td>\n",
       "      <td>0.4527</td>\n",
       "    </tr>\n",
       "  </tbody>\n",
       "</table>\n",
       "</div>"
      ],
      "text/plain": [
       "                 Acurácia  Recall  Roc_Auc  Precisão\n",
       "LightGBM_padrão    0.8045  0.5568   0.7219    0.6216\n",
       "LightGBM_1         0.8102  0.5739   0.7314    0.6326\n",
       "LightGBM_3         0.7525  0.8258   0.7769    0.5029\n",
       "LightGBM_5         0.7042  0.8788   0.7624    0.4527"
      ]
     },
     "execution_count": 128,
     "metadata": {},
     "output_type": "execute_result"
    }
   ],
   "source": [
    "pd.concat([result_dfp, result_df1, result_df3, result_df5])"
   ]
  }
 ],
 "metadata": {
  "kernelspec": {
   "display_name": "Python 3 (ipykernel)",
   "language": "python",
   "name": "python3"
  },
  "language_info": {
   "codemirror_mode": {
    "name": "ipython",
    "version": 3
   },
   "file_extension": ".py",
   "mimetype": "text/x-python",
   "name": "python",
   "nbconvert_exporter": "python",
   "pygments_lexer": "ipython3",
   "version": "3.9.7"
  }
 },
 "nbformat": 4,
 "nbformat_minor": 5
}
